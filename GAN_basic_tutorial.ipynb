{
 "cells": [
  {
   "cell_type": "markdown",
   "id": "433a1bfa-c491-45f5-8000-b71d231eb372",
   "metadata": {},
   "source": [
    "# Tensors\n",
    "\n",
    "Tensors are a specialized data structure that are very similar to arrays and matrices. In PyTorch, we use tensors to encode the inputs and outputs of a model, as well as the model’s parameters.\n",
    "\n",
    "Tensors are similar to NumPy’s ndarrays, except that tensors can run on GPUs or other hardware accelerators. In fact, tensors and NumPy arrays can often share the same underlying memory, eliminating the need to copy data (see Bridge with NumPy). Tensors are also optimized for automatic differentiation (we’ll see more about that later in the Autograd section). If you’re familiar with ndarrays, you’ll be right at home with the Tensor API. If not, follow along!"
   ]
  },
  {
   "cell_type": "code",
   "execution_count": 3,
   "id": "c165407d-9aba-481c-95c3-5f925062defc",
   "metadata": {
    "tags": []
   },
   "outputs": [],
   "source": [
    "import torch\n",
    "import numpy as np"
   ]
  },
  {
   "cell_type": "markdown",
   "id": "2bbc1641-c3dd-42a1-8a54-de1750e59042",
   "metadata": {},
   "source": [
    "## Initializing a Tensor\n",
    "\n",
    "Tensors can be initialized in various ways. Take a look at the following examples:\n",
    "\n",
    "Directly from data\n",
    "\n",
    "Tensors can be created directly from data. The data type is automatically inferred."
   ]
  },
  {
   "cell_type": "code",
   "execution_count": 4,
   "id": "fb75132a-218d-4f69-ab8c-26c14af5577e",
   "metadata": {
    "tags": []
   },
   "outputs": [
    {
     "name": "stdout",
     "output_type": "stream",
     "text": [
      "tensor([[1, 2],\n",
      "        [3, 4]])\n"
     ]
    }
   ],
   "source": [
    "data = [[1, 2],[3, 4]]\n",
    "x_data = torch.tensor(data)\n",
    "print(x_data)\n",
    "#tensors can run on GPUs or other hardware accelerators"
   ]
  },
  {
   "cell_type": "markdown",
   "id": "b75cc821-e4d9-4cbb-b36d-b305596eefa9",
   "metadata": {},
   "source": [
    "## From a NumPy array\n",
    "\n",
    "Tensors can be created from NumPy arrays (and vice versa - see Bridge with NumPy)."
   ]
  },
  {
   "cell_type": "code",
   "execution_count": 5,
   "id": "647dfb4d-4d6f-47a0-88c4-f5c50ea9e1d8",
   "metadata": {
    "tags": []
   },
   "outputs": [
    {
     "name": "stdout",
     "output_type": "stream",
     "text": [
      "tensor([[1, 2],\n",
      "        [3, 4]])\n"
     ]
    }
   ],
   "source": [
    "np_array = np.array(data)\n",
    "x_np = torch.from_numpy(np_array)\n",
    "print(x_np)"
   ]
  },
  {
   "cell_type": "markdown",
   "id": "653f0408-1980-4044-923b-647c0034507a",
   "metadata": {},
   "source": [
    "## From another tensor:\n",
    "\n",
    "The new tensor retains the properties (shape, datatype) of the argument tensor, unless explicitly overridden."
   ]
  },
  {
   "cell_type": "code",
   "execution_count": 6,
   "id": "6c876e1c-0fab-4537-a98b-e587260a76ad",
   "metadata": {
    "tags": []
   },
   "outputs": [
    {
     "name": "stdout",
     "output_type": "stream",
     "text": [
      "Ones Tensor: \n",
      " tensor([[1, 1],\n",
      "        [1, 1]]) \n",
      "\n",
      "Random Tensor: \n",
      " tensor([[0.8494, 0.5638],\n",
      "        [0.8823, 0.5612]]) \n",
      "\n"
     ]
    }
   ],
   "source": [
    "x_ones = torch.ones_like(x_data) # retains the properties of x_data\n",
    "print(f\"Ones Tensor: \\n {x_ones} \\n\")\n",
    "\n",
    "x_rand = torch.rand_like(x_data, dtype=torch.float) # overrides the datatype of x_data\n",
    "print(f\"Random Tensor: \\n {x_rand} \\n\")"
   ]
  },
  {
   "cell_type": "markdown",
   "id": "4bd33113-d409-40e9-b8b9-4385745c6c3e",
   "metadata": {},
   "source": [
    "## With random or constant values:\n",
    "\n",
    "shape is a tuple of tensor dimensions. In the functions below, it determines the dimensionality of the output tensor."
   ]
  },
  {
   "cell_type": "code",
   "execution_count": 7,
   "id": "d4fd2079-ec6d-40d0-9d1a-fb16590d518f",
   "metadata": {
    "tags": []
   },
   "outputs": [
    {
     "name": "stdout",
     "output_type": "stream",
     "text": [
      "Random Tensor: \n",
      " tensor([[0.5046, 0.4574, 0.9788],\n",
      "        [0.3400, 0.3422, 0.6501]]) \n",
      "\n",
      "Ones Tensor: \n",
      " tensor([[1., 1., 1.],\n",
      "        [1., 1., 1.]]) \n",
      "\n",
      "Zeros Tensor: \n",
      " tensor([[0., 0., 0.],\n",
      "        [0., 0., 0.]])\n"
     ]
    }
   ],
   "source": [
    "shape = (2,3,)\n",
    "rand_tensor = torch.rand(shape)\n",
    "ones_tensor = torch.ones(shape)\n",
    "zeros_tensor = torch.zeros(shape)\n",
    "\n",
    "print(f\"Random Tensor: \\n {rand_tensor} \\n\")\n",
    "print(f\"Ones Tensor: \\n {ones_tensor} \\n\")\n",
    "print(f\"Zeros Tensor: \\n {zeros_tensor}\")"
   ]
  },
  {
   "cell_type": "markdown",
   "id": "d2b0ac26-9e94-4414-93c0-a60443517e90",
   "metadata": {},
   "source": [
    "## Attributes of a Tensor\n",
    "\n",
    "Tensor attributes describe their shape, datatype, and the device on which they are stored."
   ]
  },
  {
   "cell_type": "code",
   "execution_count": 8,
   "id": "9d491eeb-b6a8-4dac-b55c-e03eadd1d795",
   "metadata": {
    "tags": []
   },
   "outputs": [
    {
     "name": "stdout",
     "output_type": "stream",
     "text": [
      "Shape of tensor: torch.Size([3, 4])\n",
      "Datatype of tensor: torch.float32\n",
      "Device tensor is stored on: cpu\n"
     ]
    }
   ],
   "source": [
    "tensor = torch.rand(3,4)\n",
    "\n",
    "print(f\"Shape of tensor: {tensor.shape}\")\n",
    "print(f\"Datatype of tensor: {tensor.dtype}\")\n",
    "print(f\"Device tensor is stored on: {tensor.device}\")"
   ]
  },
  {
   "cell_type": "markdown",
   "id": "4bbb141d-9b70-4932-b29f-f1602f190c5d",
   "metadata": {},
   "source": [
    "## Operations on Tensors\n",
    "\n",
    "Over 100 tensor operations, including arithmetic, linear algebra, matrix manipulation (transposing, indexing, slicing), sampling and more are comprehensively described here.\n",
    "\n",
    "Each of these operations can be run on the GPU (at typically higher speeds than on a CPU). If you’re using Colab, allocate a GPU by going to Runtime > Change runtime type > GPU.\n",
    "\n",
    "By default, tensors are created on the CPU. We need to explicitly move tensors to the GPU using .to method (after checking for GPU availability). Keep in mind that copying large tensors across devices can be expensive in terms of time and memory!"
   ]
  },
  {
   "cell_type": "code",
   "execution_count": 9,
   "id": "bc118b2c-f123-4ad6-898d-5e2239e492e2",
   "metadata": {
    "tags": []
   },
   "outputs": [],
   "source": [
    "# We move our tensor to the GPU if available\n",
    "if torch.cuda.is_available():\n",
    "    tensor = tensor.to(\"cuda\")"
   ]
  },
  {
   "cell_type": "markdown",
   "id": "460e1de1-497b-4dde-8a37-4acfec4bb03e",
   "metadata": {},
   "source": [
    "Try out some of the operations from the list. If you’re familiar with the NumPy API, you’ll find the Tensor API a breeze to use.\n",
    "\n",
    "Standard numpy-like indexing and slicing:"
   ]
  },
  {
   "cell_type": "code",
   "execution_count": 10,
   "id": "9298aa45-b13c-4ad9-b0b9-2a4d1d8d18dd",
   "metadata": {
    "tags": []
   },
   "outputs": [
    {
     "name": "stdout",
     "output_type": "stream",
     "text": [
      "First row: tensor([1., 1., 1., 1.])\n",
      "First column: tensor([1., 1., 1., 1.])\n",
      "Last column: tensor([1., 1., 1., 1.])\n",
      "tensor([[1., 0., 1., 1.],\n",
      "        [1., 0., 1., 1.],\n",
      "        [1., 0., 1., 1.],\n",
      "        [1., 0., 1., 1.]])\n"
     ]
    }
   ],
   "source": [
    "tensor = torch.ones(4, 4)\n",
    "print(f\"First row: {tensor[0]}\")\n",
    "print(f\"First column: {tensor[:, 0]}\")\n",
    "print(f\"Last column: {tensor[..., -1]}\")\n",
    "tensor[:,1] = 0\n",
    "print(tensor)"
   ]
  },
  {
   "cell_type": "markdown",
   "id": "651503a3-efa2-4036-88b0-4079f8922ae5",
   "metadata": {},
   "source": [
    "## Joining tensors \n",
    "You can use torch.cat to concatenate a sequence of tensors along a given dimension. See also torch.stack, another tensor joining option that is subtly different from torch.cat."
   ]
  },
  {
   "cell_type": "code",
   "execution_count": 11,
   "id": "a6fcd102-0f30-4d2a-a5ab-dd92b9106370",
   "metadata": {
    "tags": []
   },
   "outputs": [
    {
     "name": "stdout",
     "output_type": "stream",
     "text": [
      "tensor([[1., 0., 1., 1., 1., 0., 1., 1., 1., 0., 1., 1.],\n",
      "        [1., 0., 1., 1., 1., 0., 1., 1., 1., 0., 1., 1.],\n",
      "        [1., 0., 1., 1., 1., 0., 1., 1., 1., 0., 1., 1.],\n",
      "        [1., 0., 1., 1., 1., 0., 1., 1., 1., 0., 1., 1.]])\n"
     ]
    }
   ],
   "source": [
    "t1 = torch.cat([tensor, tensor, tensor], dim=1)\n",
    "print(t1)\n"
   ]
  },
  {
   "cell_type": "code",
   "execution_count": 12,
   "id": "9740d75d-5a82-4e39-a57e-2ec2d4eb44de",
   "metadata": {
    "tags": []
   },
   "outputs": [
    {
     "data": {
      "text/plain": [
       "tensor([[1., 0., 1., 1.],\n",
       "        [1., 0., 1., 1.],\n",
       "        [1., 0., 1., 1.],\n",
       "        [1., 0., 1., 1.]])"
      ]
     },
     "execution_count": 12,
     "metadata": {},
     "output_type": "execute_result"
    }
   ],
   "source": [
    "# This computes the matrix multiplication between two tensors. y1, y2, y3 will have the same value\n",
    "# ``tensor.T`` returns the transpose of a tensor\n",
    "y1 = tensor @ tensor.T\n",
    "y2 = tensor.matmul(tensor.T)\n",
    "\n",
    "y3 = torch.rand_like(y1)\n",
    "torch.matmul(tensor, tensor.T, out=y3)\n",
    "\n",
    "\n",
    "# This computes the element-wise product. z1, z2, z3 will have the same value\n",
    "z1 = tensor * tensor\n",
    "z2 = tensor.mul(tensor)\n",
    "\n",
    "z3 = torch.rand_like(tensor)\n",
    "torch.mul(tensor, tensor, out=z3)"
   ]
  },
  {
   "cell_type": "markdown",
   "id": "0f2c639d-12e0-4ab0-ae3f-ddd4b5b18a16",
   "metadata": {},
   "source": [
    "## Single-element tensors\n",
    "If you have a one-element tensor, for example by aggregating all values of a tensor into one value, you can convert it to a Python numerical value using item():"
   ]
  },
  {
   "cell_type": "code",
   "execution_count": 13,
   "id": "364efca4-119c-4752-961f-7570714cec6c",
   "metadata": {},
   "outputs": [
    {
     "name": "stdout",
     "output_type": "stream",
     "text": [
      "tensor(12.) <class 'torch.Tensor'>\n",
      "12.0 <class 'float'>\n"
     ]
    }
   ],
   "source": [
    "agg = tensor.sum()\n",
    "agg_item = agg.item()\n",
    "print(agg, type(agg))\n",
    "print(agg_item, type(agg_item))\n"
   ]
  },
  {
   "cell_type": "markdown",
   "id": "3ebe788b-4eef-4d40-8bbb-f965eb07055e",
   "metadata": {},
   "source": [
    "## In-place operations \n",
    "Operations that store the result into the operand are called in-place. They are denoted by a _ suffix. For example: x.copy_(y), x.t_(), will change x."
   ]
  },
  {
   "cell_type": "code",
   "execution_count": 14,
   "id": "91846518-b5c4-4ce9-872c-390943d99e0e",
   "metadata": {},
   "outputs": [
    {
     "name": "stdout",
     "output_type": "stream",
     "text": [
      "tensor([[1., 0., 1., 1.],\n",
      "        [1., 0., 1., 1.],\n",
      "        [1., 0., 1., 1.],\n",
      "        [1., 0., 1., 1.]]) \n",
      "\n",
      "tensor([[6., 5., 6., 6.],\n",
      "        [6., 5., 6., 6.],\n",
      "        [6., 5., 6., 6.],\n",
      "        [6., 5., 6., 6.]])\n"
     ]
    }
   ],
   "source": [
    "print(f\"{tensor} \\n\")\n",
    "tensor.add_(5)\n",
    "print(tensor)"
   ]
  },
  {
   "cell_type": "markdown",
   "id": "28725eaf-79d9-4276-8533-f4be3aa4b60e",
   "metadata": {},
   "source": [
    "## Bridge with NumPy\n",
    "\n",
    "Tensors on the CPU and NumPy arrays can share their underlying memory locations, and changing one will change the other.\n",
    "Tensor to NumPy array"
   ]
  },
  {
   "cell_type": "code",
   "execution_count": 15,
   "id": "7ba9cfa9-c939-4b10-a728-c6f60bbf0675",
   "metadata": {},
   "outputs": [
    {
     "name": "stdout",
     "output_type": "stream",
     "text": [
      "t: tensor([1., 1., 1., 1., 1.])\n",
      "n: [1. 1. 1. 1. 1.]\n"
     ]
    }
   ],
   "source": [
    "t = torch.ones(5)\n",
    "print(f\"t: {t}\")\n",
    "n = t.numpy()\n",
    "print(f\"n: {n}\")"
   ]
  },
  {
   "cell_type": "code",
   "execution_count": 16,
   "id": "cd6613c3-b7ca-4219-b13b-fcefdea1d9df",
   "metadata": {},
   "outputs": [
    {
     "name": "stdout",
     "output_type": "stream",
     "text": [
      "t: tensor([2., 2., 2., 2., 2.])\n",
      "n: [2. 2. 2. 2. 2.]\n"
     ]
    }
   ],
   "source": [
    "t.add_(1)\n",
    "print(f\"t: {t}\")\n",
    "print(f\"n: {n}\")"
   ]
  },
  {
   "cell_type": "markdown",
   "id": "0f6dfec4-51b8-4879-bbc9-c3222422cc04",
   "metadata": {},
   "source": [
    "## NumPy array to Tensor"
   ]
  },
  {
   "cell_type": "code",
   "execution_count": 17,
   "id": "41db5b88-3167-46fa-8ab2-65d5a8b66eeb",
   "metadata": {},
   "outputs": [],
   "source": [
    "n = np.ones(5)\n",
    "t = torch.from_numpy(n)\n"
   ]
  },
  {
   "cell_type": "markdown",
   "id": "f208a4fe-3b10-4d5f-a300-9b65254f2ab8",
   "metadata": {},
   "source": [
    "## Changes in the NumPy array reflects in the tensor."
   ]
  },
  {
   "cell_type": "code",
   "execution_count": 18,
   "id": "2cbcd966-b807-4d15-bdaa-4c3a3ff1f0c2",
   "metadata": {},
   "outputs": [
    {
     "name": "stdout",
     "output_type": "stream",
     "text": [
      "t: tensor([2., 2., 2., 2., 2.], dtype=torch.float64)\n",
      "n: [2. 2. 2. 2. 2.]\n"
     ]
    }
   ],
   "source": [
    "np.add(n, 1, out=n)\n",
    "print(f\"t: {t}\")\n",
    "print(f\"n: {n}\")"
   ]
  },
  {
   "cell_type": "markdown",
   "id": "28855fd4-6711-437c-b7bb-beabf7b7d04e",
   "metadata": {},
   "source": [
    "# Datasets & DataLoaders\n",
    "\n",
    "Code for processing data samples can get messy and hard to maintain; we ideally want our dataset code to be decoupled from our model training code for better readability and modularity. PyTorch provides two data primitives: torch.utils.data.DataLoader and torch.utils.data.Dataset that allow you to use pre-loaded datasets as well as your own data. Dataset stores the samples and their corresponding labels, and DataLoader wraps an iterable around the Dataset to enable easy access to the samples.\n",
    "\n",
    "PyTorch domain libraries provide a number of pre-loaded datasets (such as FashionMNIST) that subclass torch.utils.data.Dataset and implement functions specific to the particular data. They can be used to prototype and benchmark your model. You can find them here: Image Datasets, Text Datasets, and Audio Datasets"
   ]
  },
  {
   "cell_type": "markdown",
   "id": "6d1071d6-a6c0-43f2-aec7-83a7c3e613a3",
   "metadata": {},
   "source": [
    "## Loading a Dataset\n",
    "\n",
    "Here is an example of how to load the Fashion-MNIST dataset from TorchVision. Fashion-MNIST is a dataset of Zalando’s article images consisting of 60,000 training examples and 10,000 test examples. Each example comprises a 28×28 grayscale image and an associated label from one of 10 classes.\n",
    "\n",
    "We load the FashionMNIST Dataset with the following parameters:\n",
    "\n",
    "        root is the path where the train/test data is stored,\n",
    "\n",
    "        train specifies training or test dataset,\n",
    "\n",
    "        download=True downloads the data from the internet if it’s not available at root.\n",
    "\n",
    "        transform and target_transform specify the feature and label transformations\n",
    "\n"
   ]
  },
  {
   "cell_type": "code",
   "execution_count": 1,
   "id": "60a6156a-dc9e-4e49-a8b7-d5c6522d4c65",
   "metadata": {},
   "outputs": [],
   "source": [
    "import torch\n",
    "from torch.utils.data import Dataset\n",
    "from torchvision import datasets\n",
    "from torchvision.transforms import ToTensor\n",
    "import matplotlib.pyplot as plt\n",
    "\n",
    "\n",
    "training_data = datasets.FashionMNIST(\n",
    "    root=\"data\",\n",
    "    train=True,\n",
    "    download=True,\n",
    "    transform=ToTensor()\n",
    ")\n",
    "\n",
    "test_data = datasets.FashionMNIST(\n",
    "    root=\"data\",\n",
    "    train=False,\n",
    "    download=True,\n",
    "    transform=ToTensor()\n",
    ")"
   ]
  },
  {
   "cell_type": "code",
   "execution_count": null,
   "id": "be480ba8-64ad-4c2a-bde0-6bfbe4b7f296",
   "metadata": {
    "tags": []
   },
   "outputs": [],
   "source": [
    "from torchaudio import datasets as ta\n",
    "mus_data_train = ta.MUSDB_HQ(\n",
    "    root=\"data\",\n",
    "    subset =\"train\",\n",
    "    download=True\n",
    ")\n",
    "# data_loader = torch.utils.data.DataLoader(\n",
    "#     mus_data,\n",
    "#     batch_size=1,\n",
    "#     shuffle=True,\n",
    "#     num_workers=args.nThreads)\n",
    "\n",
    "\n",
    "\n",
    "mus_data_test = ta.MUSDB_HQ(\n",
    "    root=\"data\",\n",
    "    subset =\"test\",\n",
    "    download=True\n",
    ")\n"
   ]
  },
  {
   "cell_type": "markdown",
   "id": "c7f649f9-8cf2-408c-b4c5-1f93053809a8",
   "metadata": {},
   "source": [
    "## Iterating and Visualizing the Dataset\n",
    "\n",
    "We can index Datasets manually like a list: training_data[index]. We use matplotlib to visualize some samples in our training data."
   ]
  },
  {
   "cell_type": "code",
   "execution_count": 2,
   "id": "fab71eee-d74e-48d5-a352-f72d3493c16f",
   "metadata": {},
   "outputs": [
    {
     "data": {
      "image/png": "[encoded data removed]",
      "text/plain": [
       "<Figure size 800x800 with 9 Axes>"
      ]
     },
     "metadata": {},
     "output_type": "display_data"
    }
   ],
   "source": [
    "labels_map = {\n",
    "    0: \"T-Shirt\",\n",
    "    1: \"Trouser\",\n",
    "    2: \"Pullover\",\n",
    "    3: \"Dress\",\n",
    "    4: \"Coat\",\n",
    "    5: \"Sandal\",\n",
    "    6: \"Shirt\",\n",
    "    7: \"Sneaker\",\n",
    "    8: \"Bag\",\n",
    "    9: \"Ankle Boot\",\n",
    "}\n",
    "figure = plt.figure(figsize=(8, 8))\n",
    "cols, rows = 3, 3\n",
    "for i in range(1, cols * rows + 1):\n",
    "    sample_idx = torch.randint(len(training_data), size=(1,)).item()\n",
    "    img, label = training_data[sample_idx]\n",
    "    figure.add_subplot(rows, cols, i)\n",
    "    plt.title(labels_map[label])\n",
    "    plt.axis(\"off\")\n",
    "    plt.imshow(img.squeeze(), cmap=\"gray\")\n",
    "plt.show()"
   ]
  },
  {
   "cell_type": "markdown",
   "id": "443df4db-5382-4ad2-9c22-1364a42dea47",
   "metadata": {},
   "source": [
    "## Creating a Custom Dataset for your files\n",
    "\n",
    "A custom Dataset class must implement three functions: __init__, __len__, and __getitem__. Take a look at this implementation; the FashionMNIST images are stored in a directory img_dir, and their labels are stored separately in a CSV file annotations_file.\n",
    "\n",
    "In the next sections, we’ll break down what’s happening in each of these functions."
   ]
  },
  {
   "cell_type": "code",
   "execution_count": 3,
   "id": "c87556cc-d340-4532-b4ad-61d552467e73",
   "metadata": {},
   "outputs": [],
   "source": [
    "import os\n",
    "import pandas as pd\n",
    "from torchvision.io import read_image\n",
    "\n",
    "class CustomImageDataset(Dataset):\n",
    "    def __init__(self, annotations_file, img_dir, transform=None, target_transform=None):\n",
    "        self.img_labels = pd.read_csv(annotations_file)\n",
    "        self.img_dir = img_dir\n",
    "        self.transform = transform\n",
    "        self.target_transform = target_transform\n",
    "\n",
    "    def __len__(self):\n",
    "        return len(self.img_labels)\n",
    "\n",
    "    def __getitem__(self, idx):\n",
    "        img_path = os.path.join(self.img_dir, self.img_labels.iloc[idx, 0])\n",
    "        image = read_image(img_path)\n",
    "        label = self.img_labels.iloc[idx, 1]\n",
    "        if self.transform:\n",
    "            image = self.transform(image)\n",
    "        if self.target_transform:\n",
    "            label = self.target_transform(label)\n",
    "        return image, label"
   ]
  },
  {
   "cell_type": "markdown",
   "id": "0d38c748-637e-4712-8cbe-983e7ee85e90",
   "metadata": {},
   "source": [
    "## __init__\n",
    "\n",
    "The __init__ function is run once when instantiating the Dataset object. We initialize the directory containing the images, the annotations file, and both transforms (covered in more detail in the next section).\n",
    "\n",
    "The labels.csv file looks like:"
   ]
  },
  {
   "cell_type": "code",
   "execution_count": 6,
   "id": "d14407a0-a3c8-437a-9d0d-c4b1fd5f8ff7",
   "metadata": {},
   "outputs": [],
   "source": [
    "# tshirt1.jpg, 0\n",
    "# tshirt2.jpg, 0\n",
    "# #......\n",
    "# ankleboot999.jpg, 9"
   ]
  },
  {
   "cell_type": "code",
   "execution_count": 7,
   "id": "7dbd1bc0-bc00-4eef-bbdc-d8078ea8dda5",
   "metadata": {},
   "outputs": [],
   "source": [
    "def __init__(self, annotations_file, img_dir, transform=None, target_transform=None):\n",
    "    self.img_labels = pd.read_csv(annotations_file)\n",
    "    self.img_dir = img_dir\n",
    "    self.transform = transform\n",
    "    self.target_transform = target_transform"
   ]
  },
  {
   "cell_type": "markdown",
   "id": "bb56bc60-c7d1-4485-bf24-db1663cecb93",
   "metadata": {},
   "source": [
    "## __len__\n",
    "\n",
    "The __len__ function returns the number of samples in our dataset.\n",
    "\n",
    "Example:"
   ]
  },
  {
   "cell_type": "code",
   "execution_count": 8,
   "id": "a992069a-5613-443e-bc21-08a8871c583e",
   "metadata": {},
   "outputs": [],
   "source": [
    "def __len__(self):\n",
    "    return len(self.img_labels)"
   ]
  },
  {
   "cell_type": "markdown",
   "id": "534c9fb8-5c9e-4c5e-8cd0-dfffbb1dc7de",
   "metadata": {},
   "source": [
    "## __getitem__\n",
    "\n",
    "The __getitem__ function loads and returns a sample from the dataset at the given index idx. Based on the index, it identifies the image’s location on disk, converts that to a tensor using read_image, retrieves the corresponding label from the csv data in self.img_labels, calls the transform functions on them (if applicable), and returns the tensor image and corresponding label in a tuple."
   ]
  },
  {
   "cell_type": "code",
   "execution_count": 11,
   "id": "d080c32d-a97f-4f27-9bea-83dbeb5c65ce",
   "metadata": {},
   "outputs": [],
   "source": [
    "def __getitem__(self, idx):\n",
    "    img_path = os.path.join(self.img_dir, self.img_labels.iloc[idx, 0])\n",
    "    image = read_image(img_path)\n",
    "    label = self.img_labels.iloc[idx, 1]\n",
    "    if self.transform:\n",
    "        image = self.transform(image)\n",
    "    if self.target_transform:\n",
    "        label = self.target_transform(label)\n",
    "    return image, label"
   ]
  },
  {
   "cell_type": "markdown",
   "id": "5a314ff0-90ae-4e46-a9c8-530481e62932",
   "metadata": {},
   "source": [
    "## Preparing your data for training with DataLoaders\n",
    "\n",
    "The Dataset retrieves our dataset’s features and labels one sample at a time. While training a model, we typically want to pass samples in “minibatches”, reshuffle the data at every epoch to reduce model overfitting, and use Python’s multiprocessing to speed up data retrieval.\n",
    "\n",
    "DataLoader is an iterable that abstracts this complexity for us in an easy API."
   ]
  },
  {
   "cell_type": "code",
   "execution_count": 12,
   "id": "2916edcf-eba3-4075-b838-359ecb91a823",
   "metadata": {},
   "outputs": [],
   "source": [
    "from torch.utils.data import DataLoader\n",
    "\n",
    "train_dataloader = DataLoader(training_data, batch_size=64, shuffle=True)\n",
    "test_dataloader = DataLoader(test_data, batch_size=64, shuffle=True)"
   ]
  },
  {
   "cell_type": "markdown",
   "id": "5acda9c0-c1ae-47bb-bf2e-8f1f26ebce10",
   "metadata": {},
   "source": [
    "## Iterate through the DataLoader\n",
    "\n",
    "We have loaded that dataset into the DataLoader and can iterate through the dataset as needed. Each iteration below returns a batch of train_features and train_labels (containing batch_size=64 features and labels respectively). Because we specified shuffle=True, after we iterate over all batches the data is shuffled (for finer-grained control over the data loading order, take a look at Samplers)."
   ]
  },
  {
   "cell_type": "code",
   "execution_count": 13,
   "id": "4974c97b-849d-447f-ac58-05ecd2b4ffc2",
   "metadata": {},
   "outputs": [
    {
     "name": "stdout",
     "output_type": "stream",
     "text": [
      "Feature batch shape: torch.Size([64, 1, 28, 28])\n",
      "Labels batch shape: torch.Size([64])\n"
     ]
    },
    {
     "data": {
      "image/png": "[encoded data removed]",
      "text/plain": [
       "<Figure size 640x480 with 1 Axes>"
      ]
     },
     "metadata": {},
     "output_type": "display_data"
    },
    {
     "name": "stdout",
     "output_type": "stream",
     "text": [
      "Label: 9\n"
     ]
    }
   ],
   "source": [
    "# Display image and label.\n",
    "train_features, train_labels = next(iter(train_dataloader))\n",
    "print(f\"Feature batch shape: {train_features.size()}\")\n",
    "print(f\"Labels batch shape: {train_labels.size()}\")\n",
    "img = train_features[0].squeeze()\n",
    "label = train_labels[0]\n",
    "plt.imshow(img, cmap=\"gray\")\n",
    "plt.show()\n",
    "print(f\"Label: {label}\")"
   ]
  },
  {
   "cell_type": "markdown",
   "id": "27c75c04-f0b3-475f-8d50-ac30c875f6b3",
   "metadata": {},
   "source": [
    "# Transforms\n",
    "\n",
    "Data does not always come in its final processed form that is required for training machine learning algorithms. We use transforms to perform some manipulation of the data and make it suitable for training.\n",
    "\n",
    "All TorchVision datasets have two parameters -transform to modify the features and target_transform to modify the labels - that accept callables containing the transformation logic. The torchvision.transforms module offers several commonly-used transforms out of the box.\n",
    "\n",
    "The FashionMNIST features are in PIL Image format, and the labels are integers. For training, we need the features as normalized tensors, and the labels as one-hot encoded tensors. To make these transformations, we use ToTensor and Lambda."
   ]
  },
  {
   "cell_type": "code",
   "execution_count": 14,
   "id": "4cc8fb1e-359c-4c4d-8a5c-3332dce7aad2",
   "metadata": {},
   "outputs": [],
   "source": [
    "import torch\n",
    "from torchvision import datasets\n",
    "from torchvision.transforms import ToTensor, Lambda\n",
    "\n",
    "ds = datasets.FashionMNIST(\n",
    "    root=\"data\",\n",
    "    train=True,\n",
    "    download=True,\n",
    "    transform=ToTensor(),\n",
    "    target_transform=Lambda(lambda y: torch.zeros(10, dtype=torch.float).scatter_(0, torch.tensor(y), value=1))\n",
    ")"
   ]
  },
  {
   "cell_type": "markdown",
   "id": "52f6b665-ccfc-4891-b0c0-453b5568d785",
   "metadata": {},
   "source": [
    "## ToTensor()\n",
    "\n",
    "ToTensor converts a PIL image or NumPy ndarray into a FloatTensor. and scales the image’s pixel intensity values in the range [0., 1.]\n"
   ]
  },
  {
   "cell_type": "markdown",
   "id": "15f8debf-91d8-4711-9ed8-efc6771acf95",
   "metadata": {},
   "source": [
    "## Lambda Transforms\n",
    "\n",
    "Lambda transforms apply any user-defined lambda function. Here, we define a function to turn the integer into a one-hot encoded tensor. It first creates a zero tensor of size 10 (the number of labels in our dataset) and calls scatter_ which assigns a value=1 on the index as given by the label y."
   ]
  },
  {
   "cell_type": "code",
   "execution_count": 15,
   "id": "0f54cfe0-86fc-4d91-afdf-199c16a2cc25",
   "metadata": {},
   "outputs": [],
   "source": [
    "target_transform = Lambda(lambda y: torch.zeros(\n",
    "    10, dtype=torch.float).scatter_(dim=0, index=torch.tensor(y), value=1))"
   ]
  },
  {
   "cell_type": "markdown",
   "id": "422b137f-f0fc-4aff-8cf6-c136f73696de",
   "metadata": {},
   "source": [
    "# Build the Neural Network\n",
    "\n",
    "Neural networks comprise of layers/modules that perform operations on data. The torch.nn namespace provides all the building blocks you need to build your own neural network. Every module in PyTorch subclasses the nn.Module. A neural network is a module itself that consists of other modules (layers). This nested structure allows for building and managing complex architectures easily.\n",
    "\n",
    "In the following sections, we’ll build a neural network to classify images in the FashionMNIST dataset."
   ]
  },
  {
   "cell_type": "code",
   "execution_count": 16,
   "id": "c3ba44c9-cc59-4d58-a620-e9e04fbb54a9",
   "metadata": {
    "tags": []
   },
   "outputs": [],
   "source": [
    "import os\n",
    "import torch\n",
    "from torch import nn\n",
    "from torch.utils.data import DataLoader\n",
    "from torchvision import datasets, transforms"
   ]
  },
  {
   "cell_type": "markdown",
   "id": "cbc33972-b07a-4696-881a-484c0437f3bb",
   "metadata": {},
   "source": [
    "## Get Device for Training\n",
    "\n",
    "We want to be able to train our model on a hardware accelerator like the GPU, if it is available. Let’s check to see if torch.cuda is available, else we continue to use the CPU."
   ]
  },
  {
   "cell_type": "code",
   "execution_count": 17,
   "id": "3f6ee44f-f368-4132-8971-9704782ba5e1",
   "metadata": {
    "tags": []
   },
   "outputs": [
    {
     "name": "stdout",
     "output_type": "stream",
     "text": [
      "Using cpu device\n"
     ]
    }
   ],
   "source": [
    "device = \"cuda\" if torch.cuda.is_available() else \"cpu\"\n",
    "print(f\"Using {device} device\")"
   ]
  },
  {
   "cell_type": "markdown",
   "id": "82897e6e-4c3a-4ccb-b274-66b288114792",
   "metadata": {},
   "source": [
    "## Define the Class"
   ]
  },
  {
   "cell_type": "markdown",
   "id": "efa780b9-6021-46fd-8e88-99c4345b91d8",
   "metadata": {},
   "source": [
    "When defining our own neural networks, we use a subclass of nn.Module.\n",
    "We do this using super().\n",
    "It gives you access to methods in a superclass from the subclass that inherits from it and returns a temporary object of the superclass that then allows you to call that superclass’s methods. \n",
    "Why would you want to do any of this? \n",
    "While the possibilities are limited by your imagination, a common use case is building classes that extend the functionality of previously built classes. \n",
    " Calling the previously built methods with super() saves you from needing to rewrite those methods in your subclass, and allows you to swap out superclasses with minimal code changes. "
   ]
  },
  {
   "cell_type": "code",
   "execution_count": null,
   "id": "b9a95032-02b3-42bd-ba36-8029bcc90fbc",
   "metadata": {},
   "outputs": [],
   "source": [
    "class Rectangle:\n",
    "    def __init__(self, length, width):\n",
    "        self.length = length\n",
    "        self.width = width\n",
    "\n",
    "    def area(self):\n",
    "        return self.length * self.width\n",
    "\n",
    "    def perimeter(self):\n",
    "        return 2 * self.length + 2 * self.width\n",
    "\n",
    "# Here we declare that the Square class inherits from the Rectangle class\n",
    "class Square(Rectangle):\n",
    "    def __init__(self, length):\n",
    "        super().__init__(length, length)\n"
   ]
  },
  {
   "cell_type": "markdown",
   "id": "fbbcd447-fd87-420b-882c-0c4484834aee",
   "metadata": {},
   "source": [
    "Here, you’ve used super() to call the __init__() of the Rectangle class, allowing you to use it in the Square class without repeating code. Below, the core functionality remains after making changes\n",
    "Rectangle is the superclass, and Square is the subclass. \n",
    "Because the Square and Rectangle .__init__() methods are so similar, you can simply call the superclass’s .__init__() method (Rectangle.__init__()) from that of Square by using super(). This sets the .length and .width attributes even though you just had to supply a single length parameter to the Square constructor.\n",
    "\n",
    "When you run this, even though your Square class doesn’t explicitly implement it, the call to .area() will use the .area() method in the superclass and print 16. The Square class inherited .area() from the Rectangle class."
   ]
  },
  {
   "cell_type": "markdown",
   "id": "ea8724ab-b739-4dad-8f45-78d7f01d8c99",
   "metadata": {
    "tags": []
   },
   "source": [
    "We define our neural network by subclassing nn.Module, and initialize the neural network layers in __init__. Every nn.Module subclass implements the operations on input data in the forward method."
   ]
  },
  {
   "cell_type": "markdown",
   "id": "8b2d51d4-efa2-4702-ba2d-c5fae1c75a4e",
   "metadata": {},
   "source": [
    "     \n",
    "\n",
    "Parameter\n",
    "\t\n",
    "\n",
    "A kind of Tensor that is to be considered a module parameter.\n",
    "\n",
    "UninitializedParameter\n",
    "\t\n",
    "\n",
    "A parameter that is not initialized.\n",
    "\n",
    "UninitializedBuffer\n",
    "\t\n",
    "\n",
    "A buffer that is not initialized.\n",
    "Containers\n",
    "\n",
    "Module\n",
    "\t\n",
    "\n",
    "Base class for all neural network modules.\n",
    "\n",
    "Sequential\n",
    "\t\n",
    "\n",
    "A sequential container.\n",
    "\n",
    "ModuleList\n",
    "\t\n",
    "\n",
    "Holds submodules in a list.\n",
    "\n",
    "ModuleDict\n",
    "\t\n",
    "\n",
    "Holds submodules in a dictionary.\n",
    "\n",
    "ParameterList\n",
    "\t\n",
    "\n",
    "Holds parameters in a list.\n",
    "\n",
    "ParameterDict\n",
    "\t\n",
    "\n",
    "Holds parameters in a dictionary.\n",
    "\n",
    "Global Hooks For Module\n",
    "\n",
    "register_module_forward_pre_hook\n",
    "\t\n",
    "\n",
    "Registers a forward pre-hook common to all modules.\n",
    "\n",
    "register_module_forward_hook\n",
    "\t\n",
    "\n",
    "Registers a global forward hook for all the modules\n",
    "\n",
    "register_module_backward_hook\n",
    "\t\n",
    "\n",
    "Registers a backward hook common to all the modules.\n",
    "\n",
    "register_module_full_backward_hook\n",
    "\t\n",
    "\n",
    "Registers a backward hook common to all the modules.\n",
    "Convolution Layers\n",
    "\n",
    "nn.Conv1d\n",
    "\t\n",
    "\n",
    "Applies a 1D convolution over an input signal composed of several input planes.\n",
    "\n",
    "nn.Conv2d\n",
    "\t\n",
    "\n",
    "Applies a 2D convolution over an input signal composed of several input planes.\n",
    "\n",
    "nn.Conv3d\n",
    "\t\n",
    "\n",
    "Applies a 3D convolution over an input signal composed of several input planes.\n",
    "\n",
    "nn.ConvTranspose1d\n",
    "\t\n",
    "\n",
    "Applies a 1D transposed convolution operator over an input image composed of several input planes.\n",
    "\n",
    "nn.ConvTranspose2d\n",
    "\t\n",
    "\n",
    "Applies a 2D transposed convolution operator over an input image composed of several input planes.\n",
    "\n",
    "nn.ConvTranspose3d\n",
    "\t\n",
    "\n",
    "Applies a 3D transposed convolution operator over an input image composed of several input planes.\n",
    "\n",
    "nn.LazyConv1d\n",
    "\t\n",
    "\n",
    "A torch.nn.Conv1d module with lazy initialization of the in_channels argument of the Conv1d that is inferred from the input.size(1).\n",
    "\n",
    "nn.LazyConv2d\n",
    "\t\n",
    "\n",
    "A torch.nn.Conv2d module with lazy initialization of the in_channels argument of the Conv2d that is inferred from the input.size(1).\n",
    "\n",
    "nn.LazyConv3d\n",
    "\t\n",
    "\n",
    "A torch.nn.Conv3d module with lazy initialization of the in_channels argument of the Conv3d that is inferred from the input.size(1).\n",
    "\n",
    "nn.LazyConvTranspose1d\n",
    "\t\n",
    "\n",
    "A torch.nn.ConvTranspose1d module with lazy initialization of the in_channels argument of the ConvTranspose1d that is inferred from the input.size(1).\n",
    "\n",
    "nn.LazyConvTranspose2d\n",
    "\t\n",
    "\n",
    "A torch.nn.ConvTranspose2d module with lazy initialization of the in_channels argument of the ConvTranspose2d that is inferred from the input.size(1).\n",
    "\n",
    "nn.LazyConvTranspose3d\n",
    "\t\n",
    "\n",
    "A torch.nn.ConvTranspose3d module with lazy initialization of the in_channels argument of the ConvTranspose3d that is inferred from the input.size(1).\n",
    "\n",
    "nn.Unfold\n",
    "\t\n",
    "\n",
    "Extracts sliding local blocks from a batched input tensor.\n",
    "\n",
    "nn.Fold\n",
    "\t\n",
    "\n",
    "Combines an array of sliding local blocks into a large containing tensor.\n",
    "Pooling layers\n",
    "\n",
    "nn.MaxPool1d\n",
    "\t\n",
    "\n",
    "Applies a 1D max pooling over an input signal composed of several input planes.\n",
    "\n",
    "nn.MaxPool2d\n",
    "\t\n",
    "\n",
    "Applies a 2D max pooling over an input signal composed of several input planes.\n",
    "\n",
    "nn.MaxPool3d\n",
    "\t\n",
    "\n",
    "Applies a 3D max pooling over an input signal composed of several input planes.\n",
    "\n",
    "nn.MaxUnpool1d\n",
    "\t\n",
    "\n",
    "Computes a partial inverse of MaxPool1d.\n",
    "\n",
    "nn.MaxUnpool2d\n",
    "\t\n",
    "\n",
    "Computes a partial inverse of MaxPool2d.\n",
    "\n",
    "nn.MaxUnpool3d\n",
    "\t\n",
    "\n",
    "Computes a partial inverse of MaxPool3d.\n",
    "\n",
    "nn.AvgPool1d\n",
    "\t\n",
    "\n",
    "Applies a 1D average pooling over an input signal composed of several input planes.\n",
    "\n",
    "nn.AvgPool2d\n",
    "\t\n",
    "\n",
    "Applies a 2D average pooling over an input signal composed of several input planes.\n",
    "\n",
    "nn.AvgPool3d\n",
    "\t\n",
    "\n",
    "Applies a 3D average pooling over an input signal composed of several input planes.\n",
    "\n",
    "nn.FractionalMaxPool2d\n",
    "\t\n",
    "\n",
    "Applies a 2D fractional max pooling over an input signal composed of several input planes.\n",
    "\n",
    "nn.FractionalMaxPool3d\n",
    "\t\n",
    "\n",
    "Applies a 3D fractional max pooling over an input signal composed of several input planes.\n",
    "\n",
    "nn.LPPool1d\n",
    "\t\n",
    "\n",
    "Applies a 1D power-average pooling over an input signal composed of several input planes.\n",
    "\n",
    "nn.LPPool2d\n",
    "\t\n",
    "\n",
    "Applies a 2D power-average pooling over an input signal composed of several input planes.\n",
    "\n",
    "nn.AdaptiveMaxPool1d\n",
    "\t\n",
    "\n",
    "Applies a 1D adaptive max pooling over an input signal composed of several input planes.\n",
    "\n",
    "nn.AdaptiveMaxPool2d\n",
    "\t\n",
    "\n",
    "Applies a 2D adaptive max pooling over an input signal composed of several input planes.\n",
    "\n",
    "nn.AdaptiveMaxPool3d\n",
    "\t\n",
    "\n",
    "Applies a 3D adaptive max pooling over an input signal composed of several input planes.\n",
    "\n",
    "nn.AdaptiveAvgPool1d\n",
    "\t\n",
    "\n",
    "Applies a 1D adaptive average pooling over an input signal composed of several input planes.\n",
    "\n",
    "nn.AdaptiveAvgPool2d\n",
    "\t\n",
    "\n",
    "Applies a 2D adaptive average pooling over an input signal composed of several input planes.\n",
    "\n",
    "nn.AdaptiveAvgPool3d\n",
    "\t\n",
    "\n",
    "Applies a 3D adaptive average pooling over an input signal composed of several input planes.\n",
    "Padding Layers\n",
    "\n",
    "nn.ReflectionPad1d\n",
    "\t\n",
    "\n",
    "Pads the input tensor using the reflection of the input boundary.\n",
    "\n",
    "nn.ReflectionPad2d\n",
    "\t\n",
    "\n",
    "Pads the input tensor using the reflection of the input boundary.\n",
    "\n",
    "nn.ReflectionPad3d\n",
    "\t\n",
    "\n",
    "Pads the input tensor using the reflection of the input boundary.\n",
    "\n",
    "nn.ReplicationPad1d\n",
    "\t\n",
    "\n",
    "Pads the input tensor using replication of the input boundary.\n",
    "\n",
    "nn.ReplicationPad2d\n",
    "\t\n",
    "\n",
    "Pads the input tensor using replication of the input boundary.\n",
    "\n",
    "nn.ReplicationPad3d\n",
    "\t\n",
    "\n",
    "Pads the input tensor using replication of the input boundary.\n",
    "\n",
    "nn.ZeroPad2d\n",
    "\t\n",
    "\n",
    "Pads the input tensor boundaries with zero.\n",
    "\n",
    "nn.ConstantPad1d\n",
    "\t\n",
    "\n",
    "Pads the input tensor boundaries with a constant value.\n",
    "\n",
    "nn.ConstantPad2d\n",
    "\t\n",
    "\n",
    "Pads the input tensor boundaries with a constant value.\n",
    "\n",
    "nn.ConstantPad3d\n",
    "\t\n",
    "\n",
    "Pads the input tensor boundaries with a constant value.\n",
    "Non-linear Activations (weighted sum, nonlinearity)\n",
    "\n",
    "nn.ELU\n",
    "\t\n",
    "\n",
    "Applies the Exponential Linear Unit (ELU) function, element-wise, as described in the paper: Fast and Accurate Deep Network Learning by Exponential Linear Units (ELUs).\n",
    "\n",
    "nn.Hardshrink\n",
    "\t\n",
    "\n",
    "Applies the Hard Shrinkage (Hardshrink) function element-wise.\n",
    "\n",
    "nn.Hardsigmoid\n",
    "\t\n",
    "\n",
    "Applies the Hardsigmoid function element-wise.\n",
    "\n",
    "nn.Hardtanh\n",
    "\t\n",
    "\n",
    "Applies the HardTanh function element-wise.\n",
    "\n",
    "nn.Hardswish\n",
    "\t\n",
    "\n",
    "Applies the Hardswish function, element-wise, as described in the paper: Searching for MobileNetV3.\n",
    "\n",
    "nn.LeakyReLU\n",
    "\t\n",
    "\n",
    "Applies the element-wise function:\n",
    "\n",
    "nn.LogSigmoid\n",
    "\t\n",
    "\n",
    "Applies the element-wise function:\n",
    "\n",
    "nn.MultiheadAttention\n",
    "\t\n",
    "\n",
    "Allows the model to jointly attend to information from different representation subspaces as described in the paper: Attention Is All You Need.\n",
    "\n",
    "nn.PReLU\n",
    "\t\n",
    "\n",
    "Applies the element-wise function:\n",
    "\n",
    "nn.ReLU\n",
    "\t\n",
    "\n",
    "Applies the rectified linear unit function element-wise:\n",
    "\n",
    "nn.ReLU6\n",
    "\t\n",
    "\n",
    "Applies the element-wise function:\n",
    "\n",
    "nn.RReLU\n",
    "\t\n",
    "\n",
    "Applies the randomized leaky rectified liner unit function, element-wise, as described in the paper:\n",
    "\n",
    "nn.SELU\n",
    "\t\n",
    "\n",
    "Applied element-wise, as:\n",
    "\n",
    "nn.CELU\n",
    "\t\n",
    "\n",
    "Applies the element-wise function:\n",
    "\n",
    "nn.GELU\n",
    "\t\n",
    "\n",
    "Applies the Gaussian Error Linear Units function:\n",
    "\n",
    "nn.Sigmoid\n",
    "\t\n",
    "\n",
    "Applies the element-wise function:\n",
    "\n",
    "nn.SiLU\n",
    "\t\n",
    "\n",
    "Applies the Sigmoid Linear Unit (SiLU) function, element-wise.\n",
    "\n",
    "nn.Mish\n",
    "\t\n",
    "\n",
    "Applies the Mish function, element-wise.\n",
    "\n",
    "nn.Softplus\n",
    "\t\n",
    "\n",
    "Applies the Softplus function Softplus(x)=1β∗log⁡(1+exp⁡(β∗x))Softplus(x)=β1​∗log(1+exp(β∗x)) element-wise.\n",
    "\n",
    "nn.Softshrink\n",
    "\t\n",
    "\n",
    "Applies the soft shrinkage function elementwise:\n",
    "\n",
    "nn.Softsign\n",
    "\t\n",
    "\n",
    "Applies the element-wise function:\n",
    "\n",
    "nn.Tanh\n",
    "\t\n",
    "\n",
    "Applies the Hyperbolic Tangent (Tanh) function element-wise.\n",
    "\n",
    "nn.Tanhshrink\n",
    "\t\n",
    "\n",
    "Applies the element-wise function:\n",
    "\n",
    "nn.Threshold\n",
    "\t\n",
    "\n",
    "Thresholds each element of the input Tensor.\n",
    "\n",
    "nn.GLU\n",
    "\t\n",
    "\n",
    "Applies the gated linear unit function GLU(a,b)=a⊗σ(b)GLU(a,b)=a⊗σ(b) where aa is the first half of the input matrices and bb is the second half.\n",
    "Non-linear Activations (other)\n",
    "\n",
    "nn.Softmin\n",
    "\t\n",
    "\n",
    "Applies the Softmin function to an n-dimensional input Tensor rescaling them so that the elements of the n-dimensional output Tensor lie in the range [0, 1] and sum to 1.\n",
    "\n",
    "nn.Softmax\n",
    "\t\n",
    "\n",
    "Applies the Softmax function to an n-dimensional input Tensor rescaling them so that the elements of the n-dimensional output Tensor lie in the range [0,1] and sum to 1.\n",
    "\n",
    "nn.Softmax2d\n",
    "\t\n",
    "\n",
    "Applies SoftMax over features to each spatial location.\n",
    "\n",
    "nn.LogSoftmax\n",
    "\t\n",
    "\n",
    "Applies the log⁡(Softmax(x))log(Softmax(x)) function to an n-dimensional input Tensor.\n",
    "\n",
    "nn.AdaptiveLogSoftmaxWithLoss\n",
    "\t\n",
    "\n",
    "Efficient softmax approximation as described in Efficient softmax approximation for GPUs by Edouard Grave, Armand Joulin, Moustapha Cissé, David Grangier, and Hervé Jégou.\n",
    "Normalization Layers\n",
    "\n",
    "nn.BatchNorm1d\n",
    "\t\n",
    "\n",
    "Applies Batch Normalization over a 2D or 3D input as described in the paper Batch Normalization: Accelerating Deep Network Training by Reducing Internal Covariate Shift .\n",
    "\n",
    "nn.BatchNorm2d\n",
    "\t\n",
    "\n",
    "Applies Batch Normalization over a 4D input (a mini-batch of 2D inputs with additional channel dimension) as described in the paper Batch Normalization: Accelerating Deep Network Training by Reducing Internal Covariate Shift .\n",
    "\n",
    "nn.BatchNorm3d\n",
    "\t\n",
    "\n",
    "Applies Batch Normalization over a 5D input (a mini-batch of 3D inputs with additional channel dimension) as described in the paper Batch Normalization: Accelerating Deep Network Training by Reducing Internal Covariate Shift .\n",
    "\n",
    "nn.LazyBatchNorm1d\n",
    "\t\n",
    "\n",
    "A torch.nn.BatchNorm1d module with lazy initialization of the num_features argument of the BatchNorm1d that is inferred from the input.size(1).\n",
    "\n",
    "nn.LazyBatchNorm2d\n",
    "\t\n",
    "\n",
    "A torch.nn.BatchNorm2d module with lazy initialization of the num_features argument of the BatchNorm2d that is inferred from the input.size(1).\n",
    "\n",
    "nn.LazyBatchNorm3d\n",
    "\t\n",
    "\n",
    "A torch.nn.BatchNorm3d module with lazy initialization of the num_features argument of the BatchNorm3d that is inferred from the input.size(1).\n",
    "\n",
    "nn.GroupNorm\n",
    "\t\n",
    "\n",
    "Applies Group Normalization over a mini-batch of inputs as described in the paper Group Normalization\n",
    "\n",
    "nn.SyncBatchNorm\n",
    "\t\n",
    "\n",
    "Applies Batch Normalization over a N-Dimensional input (a mini-batch of [N-2]D inputs with additional channel dimension) as described in the paper Batch Normalization: Accelerating Deep Network Training by Reducing Internal Covariate Shift .\n",
    "\n",
    "nn.InstanceNorm1d\n",
    "\t\n",
    "\n",
    "Applies Instance Normalization over a 2D (unbatched) or 3D (batched) input as described in the paper Instance Normalization: The Missing Ingredient for Fast Stylization.\n",
    "\n",
    "nn.InstanceNorm2d\n",
    "\t\n",
    "\n",
    "Applies Instance Normalization over a 4D input (a mini-batch of 2D inputs with additional channel dimension) as described in the paper Instance Normalization: The Missing Ingredient for Fast Stylization.\n",
    "\n",
    "nn.InstanceNorm3d\n",
    "\t\n",
    "\n",
    "Applies Instance Normalization over a 5D input (a mini-batch of 3D inputs with additional channel dimension) as described in the paper Instance Normalization: The Missing Ingredient for Fast Stylization.\n",
    "\n",
    "nn.LazyInstanceNorm1d\n",
    "\t\n",
    "\n",
    "A torch.nn.InstanceNorm1d module with lazy initialization of the num_features argument of the InstanceNorm1d that is inferred from the input.size(1).\n",
    "\n",
    "nn.LazyInstanceNorm2d\n",
    "\t\n",
    "\n",
    "A torch.nn.InstanceNorm2d module with lazy initialization of the num_features argument of the InstanceNorm2d that is inferred from the input.size(1).\n",
    "\n",
    "nn.LazyInstanceNorm3d\n",
    "\t\n",
    "\n",
    "A torch.nn.InstanceNorm3d module with lazy initialization of the num_features argument of the InstanceNorm3d that is inferred from the input.size(1).\n",
    "\n",
    "nn.LayerNorm\n",
    "\t\n",
    "\n",
    "Applies Layer Normalization over a mini-batch of inputs as described in the paper Layer Normalization\n",
    "\n",
    "nn.LocalResponseNorm\n",
    "\t\n",
    "\n",
    "Applies local response normalization over an input signal composed of several input planes, where channels occupy the second dimension.\n",
    "Recurrent Layers\n",
    "\n",
    "nn.RNNBase\n",
    "\t\n",
    "\n",
    "nn.RNN\n",
    "\t\n",
    "\n",
    "Applies a multi-layer Elman RNN with tanh⁡tanh or ReLUReLU non-linearity to an input sequence.\n",
    "\n",
    "nn.LSTM\n",
    "\t\n",
    "\n",
    "Applies a multi-layer long short-term memory (LSTM) RNN to an input sequence.\n",
    "\n",
    "nn.GRU\n",
    "\t\n",
    "\n",
    "Applies a multi-layer gated recurrent unit (GRU) RNN to an input sequence.\n",
    "\n",
    "nn.RNNCell\n",
    "\t\n",
    "\n",
    "An Elman RNN cell with tanh or ReLU non-linearity.\n",
    "\n",
    "nn.LSTMCell\n",
    "\t\n",
    "\n",
    "A long short-term memory (LSTM) cell.\n",
    "\n",
    "nn.GRUCell\n",
    "\t\n",
    "\n",
    "A gated recurrent unit (GRU) cell\n",
    "Transformer Layers\n",
    "\n",
    "nn.Transformer\n",
    "\t\n",
    "\n",
    "A transformer model.\n",
    "\n",
    "nn.TransformerEncoder\n",
    "\t\n",
    "\n",
    "TransformerEncoder is a stack of N encoder layers.\n",
    "\n",
    "nn.TransformerDecoder\n",
    "\t\n",
    "\n",
    "TransformerDecoder is a stack of N decoder layers\n",
    "\n",
    "nn.TransformerEncoderLayer\n",
    "\t\n",
    "\n",
    "TransformerEncoderLayer is made up of self-attn and feedforward network.\n",
    "\n",
    "nn.TransformerDecoderLayer\n",
    "\t\n",
    "\n",
    "TransformerDecoderLayer is made up of self-attn, multi-head-attn and feedforward network.\n",
    "Linear Layers\n",
    "\n",
    "nn.Identity\n",
    "\t\n",
    "\n",
    "A placeholder identity operator that is argument-insensitive.\n",
    "\n",
    "nn.Linear\n",
    "\t\n",
    "\n",
    "Applies a linear transformation to the incoming data: y=xAT+by=xAT+b\n",
    "\n",
    "nn.Bilinear\n",
    "\t\n",
    "\n",
    "Applies a bilinear transformation to the incoming data: y=x1TAx2+by=x1T​Ax2​+b\n",
    "\n",
    "nn.LazyLinear\n",
    "\t\n",
    "\n",
    "A torch.nn.Linear module where in_features is inferred.\n",
    "Dropout Layers\n",
    "\n",
    "nn.Dropout\n",
    "\t\n",
    "\n",
    "During training, randomly zeroes some of the elements of the input tensor with probability p using samples from a Bernoulli distribution.\n",
    "\n",
    "nn.Dropout1d\n",
    "\t\n",
    "\n",
    "Randomly zero out entire channels (a channel is a 1D feature map, e.g., the jj-th channel of the ii-th sample in the batched input is a 1D tensor input[i,j]input[i,j]).\n",
    "\n",
    "nn.Dropout2d\n",
    "\t\n",
    "\n",
    "Randomly zero out entire channels (a channel is a 2D feature map, e.g., the jj-th channel of the ii-th sample in the batched input is a 2D tensor input[i,j]input[i,j]).\n",
    "\n",
    "nn.Dropout3d\n",
    "\t\n",
    "\n",
    "Randomly zero out entire channels (a channel is a 3D feature map, e.g., the jj-th channel of the ii-th sample in the batched input is a 3D tensor input[i,j]input[i,j]).\n",
    "\n",
    "nn.AlphaDropout\n",
    "\t\n",
    "\n",
    "Applies Alpha Dropout over the input.\n",
    "\n",
    "nn.FeatureAlphaDropout\n",
    "\t\n",
    "\n",
    "Randomly masks out entire channels (a channel is a feature map, e.g.\n",
    "Sparse Layers\n",
    "\n",
    "nn.Embedding\n",
    "\t\n",
    "\n",
    "A simple lookup table that stores embeddings of a fixed dictionary and size.\n",
    "\n",
    "nn.EmbeddingBag\n",
    "\t\n",
    "\n",
    "Computes sums or means of 'bags' of embeddings, without instantiating the intermediate embeddings.\n",
    "Distance Functions\n",
    "\n",
    "nn.CosineSimilarity\n",
    "\t\n",
    "\n",
    "Returns cosine similarity between x1x1​ and x2x2​, computed along dim.\n",
    "\n",
    "nn.PairwiseDistance\n",
    "\t\n",
    "\n",
    "Computes the pairwise distance between input vectors, or between columns of input matrices.\n",
    "Loss Functions\n",
    "\n",
    "nn.L1Loss\n",
    "\t\n",
    "\n",
    "Creates a criterion that measures the mean absolute error (MAE) between each element in the input xx and target yy.\n",
    "\n",
    "nn.MSELoss\n",
    "\t\n",
    "\n",
    "Creates a criterion that measures the mean squared error (squared L2 norm) between each element in the input xx and target yy.\n",
    "\n",
    "nn.CrossEntropyLoss\n",
    "\t\n",
    "\n",
    "This criterion computes the cross entropy loss between input logits and target.\n",
    "\n",
    "nn.CTCLoss\n",
    "\t\n",
    "\n",
    "The Connectionist Temporal Classification loss.\n",
    "\n",
    "nn.NLLLoss\n",
    "\t\n",
    "\n",
    "The negative log likelihood loss.\n",
    "\n",
    "nn.PoissonNLLLoss\n",
    "\t\n",
    "\n",
    "Negative log likelihood loss with Poisson distribution of target.\n",
    "\n",
    "nn.GaussianNLLLoss\n",
    "\t\n",
    "\n",
    "Gaussian negative log likelihood loss.\n",
    "\n",
    "nn.KLDivLoss\n",
    "\t\n",
    "\n",
    "The Kullback-Leibler divergence loss.\n",
    "\n",
    "nn.BCELoss\n",
    "\t\n",
    "\n",
    "Creates a criterion that measures the Binary Cross Entropy between the target and the input probabilities:\n",
    "\n",
    "nn.BCEWithLogitsLoss\n",
    "\t\n",
    "\n",
    "This loss combines a Sigmoid layer and the BCELoss in one single class.\n",
    "\n",
    "nn.MarginRankingLoss\n",
    "\t\n",
    "\n",
    "Creates a criterion that measures the loss given inputs x1x1, x2x2, two 1D mini-batch or 0D Tensors, and a label 1D mini-batch or 0D Tensor yy (containing 1 or -1).\n",
    "\n",
    "nn.HingeEmbeddingLoss\n",
    "\t\n",
    "\n",
    "Measures the loss given an input tensor xx and a labels tensor yy (containing 1 or -1).\n",
    "\n",
    "nn.MultiLabelMarginLoss\n",
    "\t\n",
    "\n",
    "Creates a criterion that optimizes a multi-class multi-classification hinge loss (margin-based loss) between input xx (a 2D mini-batch Tensor) and output yy (which is a 2D Tensor of target class indices).\n",
    "\n",
    "nn.HuberLoss\n",
    "\t\n",
    "\n",
    "Creates a criterion that uses a squared term if the absolute element-wise error falls below delta and a delta-scaled L1 term otherwise.\n",
    "\n",
    "nn.SmoothL1Loss\n",
    "\t\n",
    "\n",
    "Creates a criterion that uses a squared term if the absolute element-wise error falls below beta and an L1 term otherwise.\n",
    "\n",
    "nn.SoftMarginLoss\n",
    "\t\n",
    "\n",
    "Creates a criterion that optimizes a two-class classification logistic loss between input tensor xx and target tensor yy (containing 1 or -1).\n",
    "\n",
    "nn.MultiLabelSoftMarginLoss\n",
    "\t\n",
    "\n",
    "Creates a criterion that optimizes a multi-label one-versus-all loss based on max-entropy, between input xx and target yy of size (N,C)(N,C).\n",
    "\n",
    "nn.CosineEmbeddingLoss\n",
    "\t\n",
    "\n",
    "Creates a criterion that measures the loss given input tensors x1x1​, x2x2​ and a Tensor label yy with values 1 or -1.\n",
    "\n",
    "nn.MultiMarginLoss\n",
    "\t\n",
    "\n",
    "Creates a criterion that optimizes a multi-class classification hinge loss (margin-based loss) between input xx (a 2D mini-batch Tensor) and output yy (which is a 1D tensor of target class indices, 0≤y≤x.size(1)−10≤y≤x.size(1)−1):\n",
    "\n",
    "nn.TripletMarginLoss\n",
    "\t\n",
    "\n",
    "Creates a criterion that measures the triplet loss given an input tensors x1x1, x2x2, x3x3 and a margin with a value greater than 00.\n",
    "\n",
    "nn.TripletMarginWithDistanceLoss\n",
    "\t\n",
    "\n",
    "Creates a criterion that measures the triplet loss given input tensors aa, pp, and nn (representing anchor, positive, and negative examples, respectively), and a nonnegative, real-valued function (\"distance function\") used to compute the relationship between the anchor and positive example (\"positive distance\") and the anchor and negative example (\"negative distance\").\n",
    "Vision Layers\n",
    "\n",
    "nn.PixelShuffle\n",
    "\t\n",
    "\n",
    "Rearranges elements in a tensor of shape (∗,C×r2,H,W)(∗,C×r2,H,W) to a tensor of shape (∗,C,H×r,W×r)(∗,C,H×r,W×r), where r is an upscale factor.\n",
    "\n",
    "nn.PixelUnshuffle\n",
    "\t\n",
    "\n",
    "Reverses the PixelShuffle operation by rearranging elements in a tensor of shape (∗,C,H×r,W×r)(∗,C,H×r,W×r) to a tensor of shape (∗,C×r2,H,W)(∗,C×r2,H,W), where r is a downscale factor.\n",
    "\n",
    "nn.Upsample\n",
    "\t\n",
    "\n",
    "Upsamples a given multi-channel 1D (temporal), 2D (spatial) or 3D (volumetric) data.\n",
    "\n",
    "nn.UpsamplingNearest2d\n",
    "\t\n",
    "\n",
    "Applies a 2D nearest neighbor upsampling to an input signal composed of several input channels.\n",
    "\n",
    "nn.UpsamplingBilinear2d\n",
    "\t\n",
    "\n",
    "Applies a 2D bilinear upsampling to an input signal composed of several input channels.\n",
    "Shuffle Layers\n",
    "\n",
    "nn.ChannelShuffle\n",
    "\t\n",
    "\n",
    "Divide the channels in a tensor of shape (∗,C,H,W)(∗,C,H,W) into g groups and rearrange them as (∗,Cg,g,H,W)(∗,C,g​g,H,W), while keeping the original tensor shape.\n",
    "DataParallel Layers (multi-GPU, distributed)\n",
    "\n",
    "nn.DataParallel\n",
    "\t\n",
    "\n",
    "Implements data parallelism at the module level.\n",
    "\n",
    "nn.parallel.DistributedDataParallel\n",
    "\t\n",
    "\n",
    "Implements distributed data parallelism that is based on torch.distributed package at the module level.\n",
    "Utilities\n",
    "\n",
    "From the torch.nn.utils module\n",
    "\n",
    "clip_grad_norm_\n",
    "\t\n",
    "\n",
    "Clips gradient norm of an iterable of parameters.\n",
    "\n",
    "clip_grad_value_\n",
    "\t\n",
    "\n",
    "Clips gradient of an iterable of parameters at specified value.\n",
    "\n",
    "parameters_to_vector\n",
    "\t\n",
    "\n",
    "Convert parameters to one vector\n",
    "\n",
    "vector_to_parameters\n",
    "\t\n",
    "\n",
    "Convert one vector to the parameters\n",
    "\n",
    "prune.BasePruningMethod\n",
    "\t\n",
    "\n",
    "Abstract base class for creation of new pruning techniques.\n",
    "\n",
    "prune.PruningContainer\n",
    "\t\n",
    "\n",
    "Container holding a sequence of pruning methods for iterative pruning.\n",
    "\n",
    "prune.Identity\n",
    "\t\n",
    "\n",
    "Utility pruning method that does not prune any units but generates the pruning parametrization with a mask of ones.\n",
    "\n",
    "prune.RandomUnstructured\n",
    "\t\n",
    "\n",
    "Prune (currently unpruned) units in a tensor at random.\n",
    "\n",
    "prune.L1Unstructured\n",
    "\t\n",
    "\n",
    "Prune (currently unpruned) units in a tensor by zeroing out the ones with the lowest L1-norm.\n",
    "\n",
    "prune.RandomStructured\n",
    "\t\n",
    "\n",
    "Prune entire (currently unpruned) channels in a tensor at random.\n",
    "\n",
    "prune.LnStructured\n",
    "\t\n",
    "\n",
    "Prune entire (currently unpruned) channels in a tensor based on their Ln-norm.\n",
    "\n",
    "prune.CustomFromMask\n",
    "\t\n",
    "\n",
    "prune.identity\n",
    "\t\n",
    "\n",
    "Applies pruning reparametrization to the tensor corresponding to the parameter called name in module without actually pruning any units.\n",
    "\n",
    "prune.random_unstructured\n",
    "\t\n",
    "\n",
    "Prunes tensor corresponding to parameter called name in module by removing the specified amount of (currently unpruned) units selected at random.\n",
    "\n",
    "prune.l1_unstructured\n",
    "\t\n",
    "\n",
    "Prunes tensor corresponding to parameter called name in module by removing the specified amount of (currently unpruned) units with the lowest L1-norm.\n",
    "\n",
    "prune.random_structured\n",
    "\t\n",
    "\n",
    "Prunes tensor corresponding to parameter called name in module by removing the specified amount of (currently unpruned) channels along the specified dim selected at random.\n",
    "\n",
    "prune.ln_structured\n",
    "\t\n",
    "\n",
    "Prunes tensor corresponding to parameter called name in module by removing the specified amount of (currently unpruned) channels along the specified dim with the lowest Ln-norm.\n",
    "\n",
    "prune.global_unstructured\n",
    "\t\n",
    "\n",
    "Globally prunes tensors corresponding to all parameters in parameters by applying the specified pruning_method.\n",
    "\n",
    "prune.custom_from_mask\n",
    "\t\n",
    "\n",
    "Prunes tensor corresponding to parameter called name in module by applying the pre-computed mask in mask.\n",
    "\n",
    "prune.remove\n",
    "\t\n",
    "\n",
    "Removes the pruning reparameterization from a module and the pruning method from the forward hook.\n",
    "\n",
    "prune.is_pruned\n",
    "\t\n",
    "\n",
    "Check whether module is pruned by looking for forward_pre_hooks in its modules that inherit from the BasePruningMethod.\n",
    "\n",
    "weight_norm\n",
    "\t\n",
    "\n",
    "Applies weight normalization to a parameter in the given module.\n",
    "\n",
    "remove_weight_norm\n",
    "\t\n",
    "\n",
    "Removes the weight normalization reparameterization from a module.\n",
    "\n",
    "spectral_norm\n",
    "\t\n",
    "\n",
    "Applies spectral normalization to a parameter in the given module.\n",
    "\n",
    "remove_spectral_norm\n",
    "\t\n",
    "\n",
    "Removes the spectral normalization reparameterization from a module.\n",
    "\n",
    "skip_init\n",
    "\t\n",
    "\n",
    "Given a module class object and args / kwargs, instantiates the module without initializing parameters / buffers.\n",
    "\n",
    "Parametrizations implemented using the new parametrization functionality in torch.nn.utils.parameterize.register_parametrization().\n",
    "\n",
    "parametrizations.orthogonal\n",
    "\t\n",
    "\n",
    "Applies an orthogonal or unitary parametrization to a matrix or a batch of matrices.\n",
    "\n",
    "parametrizations.spectral_norm\n",
    "\t\n",
    "\n",
    "Applies spectral normalization to a parameter in the given module.\n",
    "\n",
    "Utility functions to parametrize Tensors on existing Modules. Note that these functions can be used to parametrize a given Parameter or Buffer given a specific function that maps from an input space to the parametrized space. They are not parameterizations that would transform an object into a parameter. See the Parametrizations tutorial for more information on how to implement your own parametrizations.\n",
    "\n",
    "parametrize.register_parametrization\n",
    "\t\n",
    "\n",
    "Adds a parametrization to a tensor in a module.\n",
    "\n",
    "parametrize.remove_parametrizations\n",
    "\t\n",
    "\n",
    "Removes the parametrizations on a tensor in a module.\n",
    "\n",
    "parametrize.cached\n",
    "\t\n",
    "\n",
    "Context manager that enables the caching system within parametrizations registered with register_parametrization().\n",
    "\n",
    "parametrize.is_parametrized\n",
    "\t\n",
    "\n",
    "Returns True if module has an active parametrization.\n",
    "\n",
    "parametrize.ParametrizationList\n",
    "\t\n",
    "\n",
    "A sequential container that holds and manages the original or original0, original1, .\n",
    "\n",
    "Utility functions to calls a given Module in a stateless manner.\n",
    "\n",
    "stateless.functional_call\n",
    "\t\n",
    "\n",
    "Performs a functional call on the module by replacing the module parameters and buffers with the provided ones.\n",
    "\n",
    "Utility functions in other modules\n",
    "\n",
    "nn.utils.rnn.PackedSequence\n",
    "\t\n",
    "\n",
    "Holds the data and list of batch_sizes of a packed sequence.\n",
    "\n",
    "nn.utils.rnn.pack_padded_sequence\n",
    "\t\n",
    "\n",
    "Packs a Tensor containing padded sequences of variable length.\n",
    "\n",
    "nn.utils.rnn.pad_packed_sequence\n",
    "\t\n",
    "\n",
    "Pads a packed batch of variable length sequences.\n",
    "\n",
    "nn.utils.rnn.pad_sequence\n",
    "\t\n",
    "\n",
    "Pad a list of variable length Tensors with padding_value\n",
    "\n",
    "nn.utils.rnn.pack_sequence\n",
    "\t\n",
    "\n",
    "Packs a list of variable length Tensors\n",
    "\n",
    "nn.Flatten\n",
    "\t\n",
    "\n",
    "Flattens a contiguous range of dims into a tensor.\n",
    "\n",
    "nn.Unflatten\n",
    "\t\n",
    "\n",
    "Unflattens a tensor dim expanding it to a desired shape.\n",
    "Quantized Functions\n",
    "\n",
    "Quantization refers to techniques for performing computations and storing tensors at lower bitwidths than floating point precision. PyTorch supports both per tensor and per channel asymmetric linear quantization. To learn more how to use quantized functions in PyTorch, please refer to the Quantization documentation.\n",
    "Lazy Modules Initialization\n",
    "\n",
    "nn.modules.lazy.LazyModuleMixin\n",
    "\t\n",
    "\n",
    "A mixin for modules that lazily initialize parameters, also known as \"lazy modules.\""
   ]
  },
  {
   "cell_type": "code",
   "execution_count": 77,
   "id": "08303a64-50e2-4ab8-8e78-6ee5a283ab7e",
   "metadata": {},
   "outputs": [],
   "source": [
    "class NeuralNetwork(nn.Module):\n",
    "    def __init__(self):\n",
    "        super().__init__()\n",
    "        self.flatten = nn.Flatten()\n",
    "        self.linear_relu_stack = nn.Sequential(\n",
    "            nn.Linear(28*28, 512),\n",
    "            nn.ReLU(),\n",
    "            nn.Linear(512, 512),\n",
    "            nn.ReLU(),\n",
    "            nn.Linear(512, 10),\n",
    "        )\n",
    "\n",
    "    def forward(self, x):\n",
    "        x = self.flatten(x)\n",
    "        logits = self.linear_relu_stack(x)\n",
    "        return logits"
   ]
  },
  {
   "cell_type": "markdown",
   "id": "77c86883-1947-4722-ba0f-c401009e0650",
   "metadata": {},
   "source": [
    "We create an instance of NeuralNetwork, and move it to the device, and print its structure."
   ]
  },
  {
   "cell_type": "code",
   "execution_count": 78,
   "id": "76127259-3fab-4511-94bf-d614f1c8ab52",
   "metadata": {},
   "outputs": [
    {
     "name": "stdout",
     "output_type": "stream",
     "text": [
      "NeuralNetwork(\n",
      "  (flatten): Flatten(start_dim=1, end_dim=-1)\n",
      "  (linear_relu_stack): Sequential(\n",
      "    (0): Linear(in_features=784, out_features=512, bias=True)\n",
      "    (1): ReLU()\n",
      "    (2): Linear(in_features=512, out_features=512, bias=True)\n",
      "    (3): ReLU()\n",
      "    (4): Linear(in_features=512, out_features=10, bias=True)\n",
      "  )\n",
      ")\n"
     ]
    }
   ],
   "source": [
    "model = NeuralNetwork().to(device)\n",
    "print(model)"
   ]
  },
  {
   "cell_type": "markdown",
   "id": "b5402a2c-c556-4a20-a0c6-843605df934a",
   "metadata": {},
   "source": [
    "To use the model, we pass it the input data. This executes the model’s forward, along with some background operations. Do not call model.forward() directly!\n",
    "\n",
    "Calling the model on the input returns a 2-dimensional tensor with dim=0 corresponding to each output of 10 raw predicted values for each class, and dim=1 corresponding to the individual values of each output. We get the prediction probabilities by passing it through an instance of the nn.Softmax module."
   ]
  },
  {
   "cell_type": "code",
   "execution_count": 79,
   "id": "0e881d8f-da0b-4d4d-ac74-91443d6d9441",
   "metadata": {},
   "outputs": [
    {
     "name": "stdout",
     "output_type": "stream",
     "text": [
      "input:tensor([[[2.2326e-01, 6.3550e-01, 9.6674e-02, 7.4569e-01, 7.8951e-01,\n",
      "          3.5731e-01, 4.0480e-01, 5.3172e-01, 6.6741e-01, 3.6322e-01,\n",
      "          6.1539e-01, 2.4584e-01, 1.6337e-01, 8.0372e-01, 8.6587e-01,\n",
      "          8.4573e-01, 5.6141e-01, 8.8362e-01, 4.7098e-01, 2.3188e-01,\n",
      "          7.8699e-01, 6.3519e-01, 6.9737e-01, 8.7549e-01, 6.0278e-02,\n",
      "          1.9411e-01, 3.2337e-01, 2.5847e-02],\n",
      "         [8.6599e-01, 3.4186e-01, 8.1239e-01, 5.5617e-01, 6.2495e-01,\n",
      "          3.2503e-01, 6.7748e-01, 8.3886e-01, 7.6096e-02, 6.8888e-01,\n",
      "          8.2766e-01, 3.1909e-01, 4.8283e-02, 7.9986e-01, 4.1982e-01,\n",
      "          7.6125e-02, 5.2485e-01, 1.8458e-01, 9.1958e-01, 9.1773e-01,\n",
      "          7.1909e-01, 7.4993e-01, 2.9502e-01, 3.1089e-01, 8.8744e-01,\n",
      "          6.5912e-01, 2.2722e-01, 7.0294e-01],\n",
      "         [5.4573e-01, 9.6699e-01, 6.6759e-01, 5.8179e-01, 8.5798e-01,\n",
      "          9.6864e-01, 9.4937e-01, 6.2789e-01, 2.7613e-01, 6.8912e-02,\n",
      "          3.0666e-01, 1.1768e-01, 7.9823e-01, 2.9865e-01, 2.6199e-01,\n",
      "          8.8535e-01, 6.9001e-01, 2.5491e-02, 4.6172e-01, 6.3674e-01,\n",
      "          5.5763e-01, 6.5277e-01, 3.5251e-01, 2.5409e-01, 7.8695e-01,\n",
      "          3.8313e-01, 1.3719e-01, 6.9785e-01],\n",
      "         [2.5950e-02, 3.2768e-01, 4.9002e-01, 2.0939e-01, 8.0880e-01,\n",
      "          4.7645e-01, 5.7664e-01, 4.8348e-01, 2.2829e-01, 9.3296e-02,\n",
      "          8.5418e-02, 1.3398e-01, 2.5317e-01, 5.5360e-01, 2.0473e-01,\n",
      "          8.2307e-01, 6.4713e-01, 3.8851e-01, 4.7924e-01, 7.7068e-02,\n",
      "          3.6023e-02, 3.5986e-01, 7.5747e-01, 3.7016e-01, 1.2533e-01,\n",
      "          1.9555e-01, 1.1601e-01, 2.4085e-01],\n",
      "         [9.8149e-01, 2.7277e-01, 3.7964e-01, 9.3706e-01, 9.7307e-01,\n",
      "          9.4345e-01, 7.1149e-01, 2.5391e-01, 6.6932e-01, 9.9273e-01,\n",
      "          6.2613e-01, 3.3742e-01, 6.8614e-02, 8.7677e-01, 6.1758e-02,\n",
      "          7.5745e-01, 7.9491e-01, 5.1348e-01, 3.2584e-01, 9.3528e-01,\n",
      "          4.1427e-01, 9.8871e-01, 3.7849e-02, 3.1824e-01, 2.4361e-01,\n",
      "          4.5452e-01, 7.6345e-01, 3.6927e-01],\n",
      "         [5.0290e-01, 6.1490e-01, 3.4689e-02, 5.6448e-01, 1.2105e-01,\n",
      "          4.3244e-01, 8.5553e-01, 3.3452e-01, 9.2631e-01, 6.7197e-01,\n",
      "          1.0789e-01, 3.9762e-01, 3.1324e-01, 3.0621e-02, 2.4547e-01,\n",
      "          7.1301e-02, 8.4180e-01, 7.2446e-01, 6.5752e-02, 1.2433e-01,\n",
      "          4.1922e-01, 7.6648e-01, 2.3838e-01, 7.4441e-01, 9.5356e-01,\n",
      "          8.9647e-01, 8.8483e-04, 5.1068e-01],\n",
      "         [4.6471e-01, 4.9613e-01, 8.6062e-01, 2.3958e-02, 4.0231e-01,\n",
      "          2.3462e-01, 8.8028e-01, 5.8039e-01, 3.0959e-01, 1.0399e-01,\n",
      "          8.9413e-01, 3.9661e-01, 3.3447e-01, 4.0169e-01, 3.0137e-01,\n",
      "          9.6905e-01, 6.0523e-02, 4.8153e-01, 9.2523e-01, 8.8823e-01,\n",
      "          6.1205e-01, 9.8762e-01, 9.5537e-02, 2.2595e-01, 4.8435e-01,\n",
      "          1.5587e-01, 4.4650e-01, 3.9652e-01],\n",
      "         [3.9763e-01, 8.4113e-01, 8.4893e-01, 1.3503e-01, 6.1023e-01,\n",
      "          6.1785e-01, 9.6098e-01, 4.8342e-01, 5.4949e-02, 6.4840e-02,\n",
      "          8.9226e-01, 6.9268e-01, 9.0237e-01, 7.7606e-01, 4.0728e-01,\n",
      "          2.9865e-02, 9.4925e-01, 8.4503e-01, 3.4860e-01, 8.3268e-01,\n",
      "          2.5130e-01, 9.6964e-01, 1.3477e-01, 7.0057e-01, 4.3493e-01,\n",
      "          8.8180e-01, 7.7998e-01, 9.7386e-01],\n",
      "         [8.8553e-02, 5.1739e-01, 2.2371e-01, 6.5381e-01, 9.7929e-01,\n",
      "          1.5514e-01, 2.1258e-01, 8.2729e-01, 8.0688e-01, 2.8087e-01,\n",
      "          1.3985e-01, 8.6918e-01, 3.0360e-01, 7.9370e-02, 3.1813e-02,\n",
      "          7.0106e-01, 1.9563e-01, 3.6173e-01, 1.4721e-02, 5.1982e-01,\n",
      "          9.8866e-01, 5.9671e-01, 4.2284e-01, 4.0466e-01, 2.7220e-01,\n",
      "          9.6252e-01, 2.6233e-01, 6.4557e-01],\n",
      "         [3.9707e-01, 6.8570e-01, 4.6453e-01, 6.8225e-01, 6.5385e-01,\n",
      "          8.1035e-01, 5.9425e-01, 2.4206e-02, 6.9655e-01, 9.9398e-01,\n",
      "          2.3974e-01, 6.3934e-01, 7.2328e-01, 9.2470e-01, 2.3636e-01,\n",
      "          9.1461e-01, 8.1522e-01, 7.4504e-01, 6.5309e-01, 3.6571e-02,\n",
      "          1.7309e-01, 2.1205e-01, 5.2115e-02, 1.7806e-01, 6.8876e-01,\n",
      "          9.2203e-01, 3.0378e-01, 1.9839e-01],\n",
      "         [4.8354e-01, 4.7542e-01, 3.8072e-01, 9.9582e-01, 8.6288e-02,\n",
      "          5.8284e-01, 2.5108e-01, 1.7005e-01, 6.1999e-01, 4.1354e-01,\n",
      "          9.7386e-01, 1.7063e-02, 7.6460e-01, 3.7311e-01, 1.4368e-01,\n",
      "          1.5037e-02, 8.3011e-01, 9.9262e-01, 4.3656e-01, 8.9482e-01,\n",
      "          6.2281e-02, 9.5545e-01, 9.9736e-01, 7.9208e-01, 5.3452e-01,\n",
      "          9.7217e-01, 1.7623e-01, 3.4943e-01],\n",
      "         [7.8861e-01, 9.1626e-02, 2.5274e-01, 4.9198e-02, 7.6288e-01,\n",
      "          1.1789e-01, 5.7545e-01, 3.1461e-01, 8.5465e-01, 9.5573e-02,\n",
      "          5.2403e-01, 5.0006e-01, 2.0239e-01, 6.7387e-01, 9.3718e-01,\n",
      "          6.7536e-02, 5.0162e-01, 4.5615e-01, 2.0827e-01, 9.0181e-01,\n",
      "          9.7060e-01, 6.2020e-01, 5.9344e-01, 9.0301e-01, 2.0461e-01,\n",
      "          6.0887e-01, 8.7877e-01, 3.6656e-01],\n",
      "         [5.4947e-01, 7.4966e-01, 8.5450e-01, 2.7164e-01, 9.8665e-01,\n",
      "          8.4394e-01, 6.9310e-02, 2.8759e-01, 4.0468e-01, 1.9803e-01,\n",
      "          7.0814e-01, 4.1025e-01, 1.7195e-01, 1.9223e-01, 2.4223e-01,\n",
      "          6.1583e-01, 4.3729e-01, 3.4644e-01, 8.7108e-01, 7.8974e-01,\n",
      "          5.9836e-01, 9.0456e-01, 1.8659e-01, 8.5607e-01, 9.7973e-01,\n",
      "          9.5816e-01, 7.0250e-02, 3.0749e-01],\n",
      "         [2.2357e-01, 3.4343e-02, 6.4601e-01, 7.8154e-01, 9.0515e-01,\n",
      "          6.7911e-01, 7.0864e-01, 6.8300e-01, 1.8252e-02, 5.7228e-01,\n",
      "          2.0849e-01, 6.6856e-01, 5.5199e-01, 4.6716e-01, 7.4191e-01,\n",
      "          8.9911e-01, 1.5917e-01, 7.2031e-03, 3.7773e-01, 5.9956e-02,\n",
      "          2.2497e-01, 6.8888e-01, 3.8110e-01, 7.0511e-01, 9.5199e-01,\n",
      "          5.9855e-01, 6.8301e-01, 9.6609e-01],\n",
      "         [5.7699e-01, 8.6912e-01, 1.4023e-01, 5.8914e-01, 6.0881e-01,\n",
      "          6.3269e-01, 3.9079e-01, 7.9620e-01, 1.6895e-02, 7.1054e-01,\n",
      "          5.0311e-01, 4.3331e-01, 6.0152e-02, 4.8128e-01, 3.1804e-01,\n",
      "          2.5461e-01, 5.3580e-01, 6.0782e-01, 4.6249e-01, 2.4858e-01,\n",
      "          9.8096e-01, 5.8447e-02, 7.7012e-01, 1.1829e-01, 3.6270e-01,\n",
      "          1.3759e-01, 6.7234e-01, 7.8243e-02],\n",
      "         [9.6245e-02, 6.9498e-01, 1.8122e-01, 6.5881e-01, 7.6555e-01,\n",
      "          9.3035e-01, 5.7809e-02, 8.3057e-01, 4.3190e-01, 6.2269e-01,\n",
      "          1.6941e-01, 2.8884e-01, 1.4992e-01, 4.8123e-01, 5.3843e-01,\n",
      "          2.5716e-02, 4.7335e-01, 4.5654e-01, 9.8295e-01, 6.3629e-01,\n",
      "          8.2328e-01, 3.7142e-01, 3.8115e-01, 5.7134e-01, 2.6792e-01,\n",
      "          8.3565e-01, 8.6379e-01, 5.4734e-01],\n",
      "         [4.5329e-01, 1.7361e-01, 6.6581e-01, 6.0981e-01, 9.1039e-01,\n",
      "          3.8586e-01, 8.0786e-01, 2.0962e-01, 9.7388e-01, 9.6046e-01,\n",
      "          6.4246e-01, 2.0807e-01, 2.9346e-01, 8.5644e-01, 2.9693e-01,\n",
      "          4.9932e-01, 7.0516e-01, 3.2694e-01, 5.7091e-01, 6.7918e-01,\n",
      "          8.4361e-01, 7.6827e-02, 3.1471e-01, 1.5194e-01, 7.7586e-01,\n",
      "          8.6590e-01, 9.5843e-01, 4.9523e-01],\n",
      "         [4.5477e-01, 3.7605e-02, 1.8839e-01, 9.2436e-01, 6.9783e-01,\n",
      "          8.8662e-02, 7.1114e-01, 3.5411e-01, 9.9657e-01, 1.1764e-01,\n",
      "          6.1707e-01, 9.2686e-01, 6.2491e-02, 9.0142e-01, 2.9805e-02,\n",
      "          8.1954e-01, 8.0095e-01, 2.2990e-02, 3.5003e-01, 3.2380e-01,\n",
      "          6.5249e-01, 4.0131e-01, 1.0499e-01, 7.4990e-01, 7.3332e-01,\n",
      "          3.2339e-01, 5.4795e-01, 2.2580e-02],\n",
      "         [6.0956e-01, 7.3884e-01, 6.2688e-01, 6.9384e-01, 2.0714e-02,\n",
      "          2.9343e-01, 6.5714e-02, 1.4271e-01, 8.2412e-01, 7.7078e-02,\n",
      "          7.0373e-03, 3.3457e-01, 2.9111e-01, 7.9770e-01, 5.1321e-01,\n",
      "          3.9788e-01, 4.1322e-02, 1.5062e-01, 5.0469e-01, 8.0633e-02,\n",
      "          6.8630e-01, 4.8618e-01, 1.8054e-01, 1.1727e-01, 8.5515e-01,\n",
      "          1.9609e-01, 6.1306e-01, 4.6750e-01],\n",
      "         [5.4807e-01, 4.3578e-01, 1.2799e-01, 9.9665e-02, 6.8236e-01,\n",
      "          7.9209e-01, 2.4558e-01, 3.3832e-02, 1.7948e-02, 9.2258e-01,\n",
      "          6.1952e-01, 3.8228e-01, 3.9159e-01, 2.6820e-01, 3.6618e-01,\n",
      "          2.8259e-01, 6.5920e-01, 1.1513e-02, 4.5084e-02, 8.1853e-01,\n",
      "          9.1522e-01, 4.3120e-02, 8.8753e-01, 3.3984e-01, 9.1188e-01,\n",
      "          5.4505e-01, 8.4929e-01, 1.0139e-01],\n",
      "         [6.5842e-01, 3.4471e-01, 9.4099e-02, 2.0747e-01, 3.1552e-01,\n",
      "          4.3198e-01, 5.9187e-01, 6.6622e-02, 8.1794e-01, 1.5983e-01,\n",
      "          6.8347e-01, 9.4378e-01, 7.4123e-01, 9.7046e-01, 2.6097e-01,\n",
      "          7.7916e-01, 8.9601e-01, 5.7928e-01, 9.8118e-01, 5.3281e-01,\n",
      "          3.8561e-01, 9.5538e-01, 2.5850e-01, 7.5949e-01, 5.2546e-01,\n",
      "          6.3224e-01, 7.4042e-01, 5.1876e-01],\n",
      "         [3.7240e-01, 8.4763e-01, 6.1911e-01, 1.6497e-01, 1.1523e-02,\n",
      "          5.4670e-02, 2.2179e-01, 1.2281e-01, 7.2204e-01, 3.5890e-01,\n",
      "          2.8402e-01, 2.3258e-01, 1.4693e-01, 5.6840e-03, 3.8344e-01,\n",
      "          4.8932e-01, 4.1282e-01, 1.5979e-01, 8.0109e-01, 2.6152e-01,\n",
      "          3.9395e-01, 4.0473e-01, 4.3976e-01, 5.6539e-01, 5.1966e-01,\n",
      "          8.7601e-01, 2.5478e-01, 5.4554e-01],\n",
      "         [1.6949e-01, 2.2178e-01, 4.3236e-01, 2.2186e-01, 7.6703e-01,\n",
      "          1.5468e-01, 3.1971e-02, 4.6681e-01, 3.5924e-02, 7.0036e-01,\n",
      "          4.2952e-01, 8.7044e-01, 9.6407e-01, 4.3099e-01, 5.6918e-01,\n",
      "          9.2866e-01, 4.5400e-01, 9.5242e-01, 9.8388e-01, 9.1856e-01,\n",
      "          5.3714e-01, 4.5319e-01, 8.3470e-01, 6.5605e-01, 7.9180e-01,\n",
      "          7.0589e-01, 8.2567e-03, 1.8943e-01],\n",
      "         [3.0830e-01, 3.8138e-01, 5.3755e-01, 6.1414e-01, 8.7935e-01,\n",
      "          2.2952e-01, 9.2065e-01, 5.4924e-01, 3.1133e-01, 9.1362e-04,\n",
      "          8.8624e-01, 7.9384e-01, 8.4688e-01, 6.1955e-01, 1.1393e-01,\n",
      "          8.7034e-01, 4.7686e-01, 7.2565e-01, 8.0670e-01, 1.8392e-01,\n",
      "          3.6073e-01, 1.3148e-01, 1.0806e-02, 5.7791e-01, 4.8687e-01,\n",
      "          7.7526e-01, 5.0709e-01, 7.0168e-02],\n",
      "         [6.6210e-01, 1.6396e-01, 5.3940e-01, 5.2094e-01, 6.6908e-01,\n",
      "          3.0229e-01, 3.9008e-01, 5.9955e-01, 2.4045e-01, 1.4734e-02,\n",
      "          9.3220e-01, 3.8728e-01, 2.3909e-01, 5.7932e-01, 2.2824e-01,\n",
      "          5.5585e-01, 3.8382e-01, 9.2187e-01, 7.3107e-01, 7.5250e-01,\n",
      "          5.1044e-01, 5.9127e-01, 4.8264e-01, 9.7599e-02, 2.8926e-04,\n",
      "          6.4273e-02, 9.0760e-01, 2.9524e-01],\n",
      "         [3.2728e-03, 2.9672e-01, 9.1989e-01, 9.9186e-01, 8.5382e-01,\n",
      "          2.3886e-01, 2.2211e-01, 1.7265e-01, 2.4631e-01, 1.1387e-01,\n",
      "          5.2547e-01, 5.4792e-02, 9.9127e-01, 2.7184e-01, 7.6738e-01,\n",
      "          5.8052e-02, 1.9073e-02, 6.8880e-01, 8.8526e-01, 2.5485e-01,\n",
      "          4.0776e-02, 9.3420e-01, 9.2003e-01, 7.9762e-01, 6.5084e-01,\n",
      "          7.9030e-01, 2.5148e-01, 2.9604e-01],\n",
      "         [5.9361e-01, 3.0600e-01, 3.5127e-01, 4.6267e-01, 7.8602e-01,\n",
      "          9.3212e-01, 4.8973e-01, 2.4186e-01, 6.3330e-01, 5.0212e-01,\n",
      "          1.5042e-01, 3.5722e-01, 8.7672e-01, 2.5969e-01, 3.1182e-01,\n",
      "          4.8903e-01, 8.8118e-01, 6.2870e-02, 6.8335e-01, 3.4462e-01,\n",
      "          4.8593e-01, 6.8957e-03, 6.5961e-01, 8.8798e-01, 2.1294e-01,\n",
      "          5.0456e-01, 4.4245e-01, 8.0012e-01],\n",
      "         [6.1901e-01, 6.0905e-01, 3.5648e-01, 2.9915e-01, 4.7761e-01,\n",
      "          3.1118e-01, 9.0563e-01, 2.0590e-01, 8.0524e-01, 6.7695e-01,\n",
      "          3.2761e-01, 6.4754e-01, 9.4177e-01, 6.8438e-01, 4.2761e-02,\n",
      "          7.4277e-01, 3.4406e-01, 5.8317e-01, 4.3927e-01, 9.8164e-01,\n",
      "          9.1217e-01, 4.7359e-01, 2.0132e-01, 1.0530e-01, 2.3084e-01,\n",
      "          5.9712e-01, 8.1915e-01, 1.1592e-02]]])\n",
      "Predicted class: 4\n",
      "logits: tensor([[-0.0279, -0.0373, -0.0142,  0.0902,  0.1036, -0.0049, -0.0387,  0.0520,\n",
      "          0.0693, -0.0278]], grad_fn=<AddmmBackward0>)\n",
      "pred_probab:tensor([[0.0955, 0.0946, 0.0968, 0.1075, 0.1090, 0.0977, 0.0945, 0.1035, 0.1053,\n",
      "         0.0955]], grad_fn=<SoftmaxBackward0>)\n"
     ]
    }
   ],
   "source": [
    "X = torch.rand(1, 28, 28, device=device)\n",
    "logits = model(X)\n",
    "pred_probab = nn.Softmax(dim=1)(logits)\n",
    "y_pred = pred_probab.argmax(1)\n",
    "print(f\"input:{X}\")\n",
    "print(f\"Predicted class: {y_pred.item()}\")\n",
    "print(f\"logits: {logits}\")\n",
    "print(f\"pred_probab:{pred_probab}\")"
   ]
  },
  {
   "cell_type": "markdown",
   "id": "855cd286-63ee-476a-a3ce-e4d7365f5a47",
   "metadata": {},
   "source": [
    "28 inputs, each 28 values long.\n",
    "\n",
    "<br/>\n",
    "\n",
    "The output is 10 values long logits.\n",
    "\n",
    "<br/>\n",
    "\n",
    "the highest softmax(logits) probablity is the one that was returned."
   ]
  },
  {
   "cell_type": "markdown",
   "id": "0cf5020c-a901-446d-a06f-3cf74ce6a4aa",
   "metadata": {},
   "source": [
    "## Model Layers\n",
    "\n",
    "Let’s break down the layers in the FashionMNIST model. To illustrate it, we will take a sample minibatch of 3 images of size 28x28 and see what happens to it as we pass it through the network."
   ]
  },
  {
   "cell_type": "code",
   "execution_count": 80,
   "id": "0a6c67d0-1591-49c1-93bc-984caafb6748",
   "metadata": {},
   "outputs": [
    {
     "name": "stdout",
     "output_type": "stream",
     "text": [
      "torch.Size([3, 28, 28])\n"
     ]
    },
    {
     "data": {
      "image/png": "[encoded data removed]",
      "text/plain": [
       "<Figure size 640x480 with 1 Axes>"
      ]
     },
     "metadata": {},
     "output_type": "display_data"
    },
    {
     "data": {
      "image/png": "[encoded data removed]",
      "text/plain": [
       "<Figure size 640x480 with 1 Axes>"
      ]
     },
     "metadata": {},
     "output_type": "display_data"
    },
    {
     "data": {
      "image/png": "[encoded data removed]",
      "text/plain": [
       "<Figure size 640x480 with 1 Axes>"
      ]
     },
     "metadata": {},
     "output_type": "display_data"
    }
   ],
   "source": [
    "input_image = torch.rand(3,28,28)\n",
    "print(input_image.size())\n",
    "\n",
    "for i in range(0,len(input_image)):\n",
    "    img = input_image[0].squeeze()\n",
    "\n",
    "    plt.imshow(img, cmap=\"gray\")\n",
    "\n",
    "    plt.show()"
   ]
  },
  {
   "cell_type": "markdown",
   "id": "6071163a-cb44-4611-8f94-3493e7bdcc9a",
   "metadata": {},
   "source": [
    "## nn.Flatten\n",
    "\n",
    "We initialize the nn.Flatten layer to convert each 2D 28x28 image into a contiguous array of 784 pixel values ( the minibatch dimension (at dim=0) is maintained)."
   ]
  },
  {
   "cell_type": "code",
   "execution_count": 81,
   "id": "8503ed79-2a6c-4dfe-9a02-b177e7d5f972",
   "metadata": {},
   "outputs": [
    {
     "name": "stdout",
     "output_type": "stream",
     "text": [
      "torch.Size([3, 784])\n"
     ]
    }
   ],
   "source": [
    "flatten = nn.Flatten()\n",
    "flat_image = flatten(input_image)\n",
    "print(flat_image.size())"
   ]
  },
  {
   "cell_type": "markdown",
   "id": "8522e2b0-7592-4a9a-8107-0ef2cdedf28c",
   "metadata": {},
   "source": [
    "## nn.Sequential\n",
    "\n",
    "nn.Sequential is an ordered container of modules. The data is passed through all the modules in the same order as defined. You can use sequential containers to put together a quick network like seq_modules."
   ]
  },
  {
   "cell_type": "code",
   "execution_count": 82,
   "id": "a36192c5-f5c0-4343-a727-ca7988e99159",
   "metadata": {},
   "outputs": [],
   "source": [
    "seq_modules = nn.Sequential(\n",
    "    flatten,\n",
    "    layer1,\n",
    "    nn.ReLU(),\n",
    "    nn.Linear(20, 10)\n",
    ")\n",
    "input_image = torch.rand(3,28,28)\n",
    "logits = seq_modules(input_image)"
   ]
  },
  {
   "cell_type": "markdown",
   "id": "747c26ef-e428-4ab1-b027-caf28cd86293",
   "metadata": {},
   "source": [
    "### nn.Linear\n",
    "\n",
    "The linear layer is a module that applies a linear transformation on the input using its stored weights and biases."
   ]
  },
  {
   "cell_type": "code",
   "execution_count": 83,
   "id": "0f768692-3788-4042-9b08-e7ca51f1f8a4",
   "metadata": {},
   "outputs": [
    {
     "name": "stdout",
     "output_type": "stream",
     "text": [
      "torch.Size([3, 20])\n"
     ]
    }
   ],
   "source": [
    "layer1 = nn.Linear(in_features=28*28, out_features=20)\n",
    "hidden1 = layer1(flat_image)\n",
    "print(hidden1.size())"
   ]
  },
  {
   "cell_type": "markdown",
   "id": "fdf8be9f-4544-41dc-8825-bdebbc9dfc77",
   "metadata": {},
   "source": [
    "### nn.ReLU\n",
    "\n",
    "Non-linear activations are what create the complex mappings between the model’s inputs and outputs. They are applied after linear transformations to introduce nonlinearity, helping neural networks learn a wide variety of phenomena.\n",
    "\n",
    "In this model, we use nn.ReLU between our linear layers, but there’s other activations to introduce non-linearity in your model."
   ]
  },
  {
   "cell_type": "code",
   "execution_count": 84,
   "id": "3cf27c32-b5de-4b3c-b6fb-ec4ac15d6c60",
   "metadata": {},
   "outputs": [
    {
     "name": "stdout",
     "output_type": "stream",
     "text": [
      "Before ReLU: tensor([[ 0.4390,  0.2300, -0.3363, -0.9431,  0.0906, -0.1378,  0.2716,  0.0387,\n",
      "         -0.4681,  0.0927,  0.6127, -0.0531, -0.2481,  0.2586, -0.0270,  0.5453,\n",
      "         -0.2401,  0.0093, -0.1789, -0.0947],\n",
      "        [ 0.6639,  0.2188, -0.2369, -0.8736,  0.0778,  0.1491,  0.2682, -0.0215,\n",
      "         -0.7511, -0.2793,  0.2325, -0.3523, -0.4271,  0.0523, -0.1073,  0.5265,\n",
      "         -0.0663, -0.3978, -0.0149, -0.0351],\n",
      "        [ 0.4945,  0.1803,  0.0359, -0.9275, -0.0472,  0.0437,  0.2173,  0.2847,\n",
      "         -0.5555,  0.1718,  0.5920, -0.2198, -0.1712,  0.0529,  0.0108,  0.5161,\n",
      "          0.0592, -0.0694, -0.0887, -0.2098]], grad_fn=<AddmmBackward0>)\n",
      "\n",
      "\n",
      "After ReLU: tensor([[0.4390, 0.2300, 0.0000, 0.0000, 0.0906, 0.0000, 0.2716, 0.0387, 0.0000,\n",
      "         0.0927, 0.6127, 0.0000, 0.0000, 0.2586, 0.0000, 0.5453, 0.0000, 0.0093,\n",
      "         0.0000, 0.0000],\n",
      "        [0.6639, 0.2188, 0.0000, 0.0000, 0.0778, 0.1491, 0.2682, 0.0000, 0.0000,\n",
      "         0.0000, 0.2325, 0.0000, 0.0000, 0.0523, 0.0000, 0.5265, 0.0000, 0.0000,\n",
      "         0.0000, 0.0000],\n",
      "        [0.4945, 0.1803, 0.0359, 0.0000, 0.0000, 0.0437, 0.2173, 0.2847, 0.0000,\n",
      "         0.1718, 0.5920, 0.0000, 0.0000, 0.0529, 0.0108, 0.5161, 0.0592, 0.0000,\n",
      "         0.0000, 0.0000]], grad_fn=<ReluBackward0>)\n"
     ]
    }
   ],
   "source": [
    "print(f\"Before ReLU: {hidden1}\\n\\n\")\n",
    "hidden1 = nn.ReLU()(hidden1)\n",
    "print(f\"After ReLU: {hidden1}\")\n"
   ]
  },
  {
   "cell_type": "markdown",
   "id": "1fd7dc5c-ae79-4e35-8f95-18bf93d3a9e4",
   "metadata": {},
   "source": [
    "Above all, this transformation simplifies all returns as either a probabilty or a non-occurence, so to speak"
   ]
  },
  {
   "cell_type": "markdown",
   "id": "7263ba9d-a616-4572-a8af-e78298138c3b",
   "metadata": {},
   "source": [
    "### nn.Softmax\n",
    "\n",
    "The last linear layer of the neural network returns logits - raw values in [-infty, infty] - which are passed to the nn.Softmax module. The logits are scaled to values [0, 1] representing the model’s predicted probabilities for each class. dim parameter indicates the dimension along which the values must sum to 1."
   ]
  },
  {
   "cell_type": "code",
   "execution_count": 51,
   "id": "48728af2-f8f3-4c77-b76c-b52bd62a4a67",
   "metadata": {},
   "outputs": [],
   "source": [
    "softmax = nn.Softmax(dim=1)\n",
    "pred_probab = softmax(logits)"
   ]
  },
  {
   "cell_type": "markdown",
   "id": "ff20c2de-6d1a-4aeb-93e4-d4f01b48811a",
   "metadata": {},
   "source": [
    "### Model Parameters\n",
    "\n",
    "Many layers inside a neural network are parameterized, i.e. have associated weights and biases that are optimized during training. Subclassing nn.Module automatically tracks all fields defined inside your model object, and makes all parameters accessible using your model’s parameters() or named_parameters() methods.\n",
    "\n",
    "In this example, we iterate over each parameter, and print its size and a preview of its values."
   ]
  },
  {
   "cell_type": "code",
   "execution_count": 29,
   "id": "43043efc-6bfe-489c-94ed-0d4044959715",
   "metadata": {},
   "outputs": [
    {
     "name": "stdout",
     "output_type": "stream",
     "text": [
      "Model structure: NeuralNetwork(\n",
      "  (flatten): Flatten(start_dim=1, end_dim=-1)\n",
      "  (linear_relu_stack): Sequential(\n",
      "    (0): Linear(in_features=784, out_features=512, bias=True)\n",
      "    (1): ReLU()\n",
      "    (2): Linear(in_features=512, out_features=512, bias=True)\n",
      "    (3): ReLU()\n",
      "    (4): Linear(in_features=512, out_features=10, bias=True)\n",
      "  )\n",
      ")\n",
      "\n",
      "\n",
      "Layer: linear_relu_stack.0.weight | Size: torch.Size([512, 784]) | Values : tensor([[ 0.0088,  0.0003,  0.0353,  ..., -0.0226,  0.0101,  0.0076],\n",
      "        [-0.0183,  0.0080,  0.0146,  ..., -0.0334, -0.0332,  0.0089]],\n",
      "       grad_fn=<SliceBackward0>) \n",
      "\n",
      "Layer: linear_relu_stack.0.bias | Size: torch.Size([512]) | Values : tensor([-0.0024, -0.0148], grad_fn=<SliceBackward0>) \n",
      "\n",
      "Layer: linear_relu_stack.2.weight | Size: torch.Size([512, 512]) | Values : tensor([[-0.0377, -0.0029,  0.0300,  ...,  0.0188,  0.0129,  0.0017],\n",
      "        [-0.0196,  0.0192,  0.0137,  ..., -0.0157, -0.0270,  0.0048]],\n",
      "       grad_fn=<SliceBackward0>) \n",
      "\n",
      "Layer: linear_relu_stack.2.bias | Size: torch.Size([512]) | Values : tensor([ 0.0377, -0.0427], grad_fn=<SliceBackward0>) \n",
      "\n",
      "Layer: linear_relu_stack.4.weight | Size: torch.Size([10, 512]) | Values : tensor([[-0.0338,  0.0376, -0.0333,  ...,  0.0094,  0.0442, -0.0167],\n",
      "        [-0.0368, -0.0182,  0.0193,  ...,  0.0227,  0.0260,  0.0403]],\n",
      "       grad_fn=<SliceBackward0>) \n",
      "\n",
      "Layer: linear_relu_stack.4.bias | Size: torch.Size([10]) | Values : tensor([ 0.0377, -0.0231], grad_fn=<SliceBackward0>) \n",
      "\n"
     ]
    }
   ],
   "source": [
    "print(f\"Model structure: {model}\\n\\n\")\n",
    "\n",
    "for name, param in model.named_parameters():\n",
    "    print(f\"Layer: {name} | Size: {param.size()} | Values : {param[:2]} \\n\")"
   ]
  },
  {
   "cell_type": "code",
   "execution_count": null,
   "id": "141b8255-20fc-41ff-981e-9f751ebd70f7",
   "metadata": {},
   "outputs": [],
   "source": []
  },
  {
   "cell_type": "code",
   "execution_count": null,
   "id": "7241dcf2-6915-4067-8d08-a0540fd88b92",
   "metadata": {},
   "outputs": [],
   "source": []
  },
  {
   "cell_type": "code",
   "execution_count": null,
   "id": "76dca8a0-22b3-4767-a8cc-dcb6ade6f1b8",
   "metadata": {},
   "outputs": [],
   "source": []
  },
  {
   "cell_type": "code",
   "execution_count": null,
   "id": "3d66cf11-6836-4942-86d5-7c4c4a86611d",
   "metadata": {},
   "outputs": [],
   "source": []
  },
  {
   "cell_type": "code",
   "execution_count": null,
   "id": "424c28b1-b733-45bb-8e99-6a4c9d7921de",
   "metadata": {},
   "outputs": [],
   "source": []
  },
  {
   "cell_type": "code",
   "execution_count": null,
   "id": "0dfcc448-b2f1-428e-8fbf-f05847d0ade6",
   "metadata": {},
   "outputs": [],
   "source": []
  },
  {
   "cell_type": "markdown",
   "id": "57d9b79c-71a8-4633-beb2-58059865a09b",
   "metadata": {},
   "source": [
    "GANs are composed of two models trained in unison. The first model, the generator, takes in some random input and tries to output something that looks like our training data. The second model, the discriminator, takes in training data and generated data and tries to distinguish the fake generated data from the real training data. What makes this framework interesting is that these models are trained together. As the discriminator gets better at recognizing fake images this learning is passed to the generator and the generator gets better at generating fake images. To overuse an analogy the generator is to the discriminator as a counterfeiter is to FBI investigators. One tries to forge data, the other tries to distinguish forgeries from the real deal.\n",
    "\n",
    "This framework has produced a ton of super interesting results in the last few years from translating horses to zebras, to creating deep fakes, to imagining up wholly new images. In this tutorial we aren’t going to do anything as interesting as those but this should give you all of the background you need in order to successfully implement a GAN of your own from scratch : ). Let’s get started."
   ]
  },
  {
   "cell_type": "markdown",
   "id": "37df3be4-957d-4006-843b-2dc78667c092",
   "metadata": {},
   "source": [
    "Problem Definition\n",
    "\n",
    "Imagine that we have a data set of all even numbers between zero and 128. This is a subset of a much bigger distribution of data, the integers, with some specific properties, much like how human faces are a subset of all images of living things. Our generator is going to take in random noise as an integer in that same range and learn to produce only even numbers.\n",
    "\n",
    "Before getting into the actual model let’s build out our data set. We are going to represent each integer as it’s unsigned seven bit binary representation. So the number 56 is 0111000. We do this because:\n",
    "\n",
    "    It is very natural to pass in a binary vector to a machine learning algorithm, in this case, a neural network.\n",
    "    It is easy to see if the model is generating even numbers by looking at the lowest bit. If it’s a one the number is odd, if it’s a zero the number is even.\n",
    "\n",
    "To start let’s write a function which converts any positive integer to its binary form as a list."
   ]
  },
  {
   "cell_type": "code",
   "execution_count": 52,
   "id": "aa3ff16c-68c6-4750-b98d-62c4923e3d33",
   "metadata": {},
   "outputs": [
    {
     "name": "stdout",
     "output_type": "stream",
     "text": [
      "[1, 1, 0, 0, 0, 1, 1]\n"
     ]
    }
   ],
   "source": [
    "from typing import List\n",
    "\n",
    "def create_binary_list_from_int(number = int):\n",
    "    if number < 0 or type(number) is not int:\n",
    "        raise ValueError(\"Only Positive integers are allowed\")\n",
    "\n",
    "    return [int(x) for x in list(bin(number))[2:]]\n",
    "\n",
    "print(create_binary_list_from_int(99))"
   ]
  },
  {
   "cell_type": "markdown",
   "id": "2c53f481-37c2-4b55-8559-3615a581e555",
   "metadata": {},
   "source": [
    "With this we can make a function which will generate random training data for us on the fly."
   ]
  },
  {
   "cell_type": "code",
   "execution_count": 42,
   "id": "0f64721a-a839-4821-8cc0-b6617247e5d6",
   "metadata": {},
   "outputs": [
    {
     "name": "stdout",
     "output_type": "stream",
     "text": [
      "<function generate_even_data at 0x7fab4ed130d0>\n"
     ]
    }
   ],
   "source": [
    "def generate_even_data(max_int: int, batch_size: int=16) -> tuple[List[int], List[List[int]]]:\n",
    "    # Get the number of binary places needed to represent the maximum number\n",
    "    max_length = int(math.log(max_int, 2))\n",
    "\n",
    "    # Sample batch_size number of integers in range 0-max_int\n",
    "    sampled_integers = np.random.randint(0, int(max_int / 2), batch_size)\n",
    "\n",
    "    # create a list of labels all ones because all numbers are even\n",
    "    labels = [1] * batch_size\n",
    "\n",
    "    # Generate a list of binary numbers for training.\n",
    "    data = [create_binary_list_from_int(int(x * 2)) for x in sampled_integers]\n",
    "    data = [([0] * (max_length - len(x))) + x for x in data]\n",
    "\n",
    "    return labels, data\n",
    "print(generate_even_data\n",
    "     )"
   ]
  },
  {
   "cell_type": "markdown",
   "id": "6a8595d4-110d-4a71-b020-f62152620c0a",
   "metadata": {},
   "source": [
    "This function will produce two outputs the first is a list of ones representing that this data is even and comes from our true distribution. The second output is a random even number in binary list form. That’s all we need to start building and training our models!"
   ]
  },
  {
   "cell_type": "markdown",
   "id": "d90f4b08-5aed-477f-9e48-1330726f5055",
   "metadata": {},
   "source": [
    "## Building the Generator and Discriminator Generator\n",
    "\n",
    "Building the Generator and Discriminator is a snap! Let’s start with the Generator. We need something capable of mapping random seven digit binary input to seven digit binary input that is even. The simplest possible thing here is a single seven neuron layer."
   ]
  },
  {
   "cell_type": "code",
   "execution_count": 43,
   "id": "f40f0e90-fb77-4f96-81a0-f0b0dfe64e8e",
   "metadata": {},
   "outputs": [],
   "source": [
    "import torch"
   ]
  },
  {
   "cell_type": "code",
   "execution_count": 44,
   "id": "40f51b4a-1856-4261-8405-b9e79c1b2491",
   "metadata": {},
   "outputs": [],
   "source": [
    "from typing import Optional\n",
    "import math\n",
    "import torch.nn as nn\n",
    "\n",
    "class Generator(nn.Module):\n",
    "\n",
    "    def __init__(self, input_length: int):\n",
    "        super(Generator, self).__init__()\n",
    "        self.dense_layer = nn.Linear(int(input_length), int(input_length))\n",
    "        self.activation = nn.Sigmoid()\n",
    "\n",
    "    def forward(self, x):\n",
    "        return self.activation(self.dense_layer(x))"
   ]
  },
  {
   "cell_type": "markdown",
   "id": "264da8da-4a53-4fef-9256-00953629d38a",
   "metadata": {},
   "source": [
    "If we were building a GAN to do something more complicated on say images we would probably train it using random noise generated from a normal distribution and gradually upsample and reshape it until it’s the same size as the data we are trying to copy. Since our example is so simple, a single linear layer with a logistic (sigmoid) activation should be enough to map ones and zeros in seven positions to other ones and zeros in seven positions."
   ]
  },
  {
   "cell_type": "markdown",
   "id": "a7427a65-c430-4f54-b272-61eaaad9573b",
   "metadata": {},
   "source": [
    "Discriminator\n",
    "\n",
    "The Discriminator is no more complicated than the Generator. Here we need a model to take in a seven digit binary input and output whether or not it is from our real data distribution (is even) or not (is odd or not a number). To accomplish this we use a single neuron model (logistic regression) with a logistic activation (Sigmoid)."
   ]
  },
  {
   "cell_type": "code",
   "execution_count": 4,
   "id": "80b14b2d-bdc0-499e-9b7d-68ba9b954f3f",
   "metadata": {},
   "outputs": [],
   "source": [
    "class Discriminator(nn.Module):\n",
    "    def __init__(self, input_length: int):\n",
    "        super(Discriminator, self).__init__()\n",
    "        self.dense = nn.Linear(int(input_length), 1);\n",
    "        self.activation = nn.Sigmoid()\n",
    "\n",
    "    def forward(self, x):\n",
    "        return self.activation(self.dense(x))"
   ]
  },
  {
   "cell_type": "markdown",
   "id": "2a27f65e-f110-46a9-bbb5-e46d278d65cb",
   "metadata": {},
   "source": [
    "That’s it, we’ve built the two models which we will train in unison. Now for the tricky part of GAN training, the training. We need to link these models up in a way that can propagate the gradients around correctly."
   ]
  },
  {
   "cell_type": "markdown",
   "id": "9f650402-769b-46cf-b201-043d2a95415d",
   "metadata": {},
   "source": [
    "Training the Model\n",
    "\n",
    "Training GANs can seem a bit confusing at first because we need to update two models with every bit of input and we need to be careful about how we do that. So to break it down, we pass two batches of data to our model at every training step. One batch is random noise which will cause the generator to create some generated data, and the second batch is composed solely of data from our true distribution. Throughout the training description, I will reference line numbers in the final training code gist below, not the Github repository."
   ]
  },
  {
   "cell_type": "code",
   "execution_count": 5,
   "id": "d8072e34-a025-4094-9570-b42232b1d9c3",
   "metadata": {},
   "outputs": [],
   "source": [
    "import math\n",
    "\n",
    "import torch\n",
    "import torch.nn as nn\n",
    "\n",
    "\n",
    "def train(max_int: int = 128, batch_size: int = 16, training_steps: int = 500):\n",
    "    input_length = int(math.log(max_int, 2))\n",
    "\n",
    "    # Models\n",
    "    generator = Generator(input_length)\n",
    "    discriminator = Discriminator(input_length)\n",
    "\n",
    "    # Optimizers\n",
    "    generator_optimizer = torch.optim.Adam(generator.parameters(), lr=0.001)\n",
    "    discriminator_optimizer = torch.optim.Adam(discriminator.parameters(), lr=0.001)\n",
    "\n",
    "    # loss\n",
    "    loss = nn.BCELoss()\n",
    "\n",
    "    for i in range(training_steps):\n",
    "        # zero the gradients on each iteration\n",
    "        generator_optimizer.zero_grad()\n",
    "\n",
    "        # Create noisy input for generator\n",
    "        # Need float type instead of int\n",
    "        noise = torch.randint(0, 2, size=(batch_size, input_length)).float()\n",
    "        generated_data = generator(noise)\n",
    "\n",
    "        # Generate examples of even real data\n",
    "        true_labels, true_data = generate_even_data(max_int, batch_size=batch_size)\n",
    "        true_labels = torch.tensor(true_labels).float()\n",
    "        true_data = torch.tensor(true_data).float()\n",
    "\n",
    "        # Train the generator\n",
    "        # We invert the labels here and don't train the discriminator because we want the generator\n",
    "        # to make things the discriminator classifies as true.\n",
    "        generator_discriminator_out = discriminator(generated_data)\n",
    "        generator_loss = loss(generator_discriminator_out, true_labels)\n",
    "        generator_loss.backward()\n",
    "        generator_optimizer.step()\n",
    "\n",
    "        # Train the discriminator on the true/generated data\n",
    "        discriminator_optimizer.zero_grad()\n",
    "        true_discriminator_out = discriminator(true_data)\n",
    "        true_discriminator_loss = loss(true_discriminator_out, true_labels)\n",
    "\n",
    "        # add .detach() here think about this\n",
    "        generator_discriminator_out = discriminator(generated_data.detach())\n",
    "        generator_discriminator_loss = loss(generator_discriminator_out, torch.zeros(batch_size))\n",
    "        discriminator_loss = (true_discriminator_loss + generator_discriminator_loss) / 2\n",
    "        discriminator_loss.backward()\n",
    "        discriminator_optimizer.step()"
   ]
  },
  {
   "cell_type": "markdown",
   "id": "2528382c-2814-4799-8a53-5036dcdfde29",
   "metadata": {},
   "source": [
    "Train the Generator\n",
    "\n",
    "Let’s start by training the generator. This consists of:\n",
    "\n",
    "    Creating random noise. (Line 27)\n",
    "    Generating new “fake” data by passing the noise to the generator (Line 28)\n",
    "    Get the predictions from the discriminator on the “fake” data (Line 38)\n",
    "    Calculate the loss from the discriminator’s output using labels as if the data were “real” instead of fake. (Line 39)\n",
    "    Backpropagate the error through just the generator. (Lines 40–41)\n",
    "\n",
    "Notice how in step four we use true labels instead of fake labels for calculating the loss. This is because we are training the generator. The generator should be trying to fool the discriminator so when the discriminator makes a mistake and says the generated output is real (predicts 1) then the gradients should be small, when the discriminator acts correctly and predicts that the output is generated (predicts 0) the gradients should be big. This is why we only propagate the gradients through the generator at this step, because we inverted the labels. If we trained the entire model like this either the generator would learn the wrong thing or the discriminator would.\n",
    "Train the Discriminator\n",
    "\n",
    "Now it’s time to update the weights in our discriminator. We do that in a few steps:\n",
    "\n",
    "    Pass in a batch of only data from the true data set with a vector of all one labels. (Lines 44–46)\n",
    "    Pass our generated data into the discriminator, with detached weights, and zero labels. (Lines 49–50)\n",
    "    Average the loss from steps one and two. (Line 51)\n",
    "    Backpropagate the gradients through just the discriminator. (Lines 52–53)\n",
    "\n",
    "The discriminator is trying to learn to distinguish real data from “fake” generated data. The labels while training the discriminator need to represent that, i.e. one when our data comes from the real data set and zero when it is generated by our generator. We pass in those two batches in steps (1) and (2) above and then average the loss from the two batches. It’s important to note that when passing in the generated data we want to detach the gradients. We do this because we are not training the generator we are just focused on the discriminator. Once all of that is done we backpropagate the gradients in only the discriminator and we are done."
   ]
  },
  {
   "cell_type": "markdown",
   "id": "c62878ea-91a1-4852-9df4-38aee5d31032",
   "metadata": {},
   "source": [
    "Wrapping Up\n",
    "\n",
    "That’s it! We’ve built our entire GAN. Wrap that in a training loop with some gradient zeroing at each step and we’re ready to roll. If we look at the output of our generator at various training steps we can see it converging to only creating even numbers which is exactly what we wanted!"
   ]
  },
  {
   "cell_type": "markdown",
   "id": "19cf35b1-855a-4681-b929-3c4c6e689173",
   "metadata": {},
   "source": [
    "0   : [47, 3, 35, 1, 16, 56, 39, 16, 3, 1]\n",
    "50  : [2, 35, 34, 34, 38, 2, 34, 43, 3, 43]\n",
    "100 : [42, 43, 106, 38, 35, 42, 35, 42, 43, 106]\n",
    "200 : [108, 106, 106, 42, 106, 42, 106, 106, 42, 96]"
   ]
  },
  {
   "cell_type": "markdown",
   "id": "1cf2fc0a-038b-4a86-b93e-64257cbedfa4",
   "metadata": {},
   "source": [
    "At step zero we have 7/10 odd numbers in our sample and at step 200 10/10 of our samples are even numbers! That’s a successful generator and it only took ~50 lines of real Python code!"
   ]
  },
  {
   "cell_type": "markdown",
   "id": "4e029eef-09e7-4df7-a8b6-20c05616c177",
   "metadata": {},
   "source": [
    "What Next?\n",
    "\n",
    "As you’ve probably guessed there are some other tricks for training a GAN which generates non trivial output. Some immediate things to try if you want to make this model work on real data like images are:\n",
    "\n",
    "    The Generator will probably need to be a bit deeper and scale up the noise to the size of the real data. You can do this using transposed convolutions or upsampling layers.\n",
    "    Change the noise input to the generator to be Gaussian\n",
    "    Increase the depth of the discriminator so that its capacity for prediction is better.\n",
    "    Train for much much longer and monitor the loss.\n",
    "\n",
    "As a good next step try and implement the DCGAN architecture. This code will get you 90% of the way there. Once you’ve done that and made some fun images like those in the introduction, try and improve them by playing around with training hyper parameters. A good list of things to try when training real GANs can be found here."
   ]
  },
  {
   "cell_type": "code",
   "execution_count": null,
   "id": "a4c9aac3-2a3a-4df2-a7a2-bb47f3fab570",
   "metadata": {},
   "outputs": [],
   "source": []
  }
 ],
 "metadata": {
  "kernelspec": {
   "display_name": "Python 3 (ipykernel)",
   "language": "python",
   "name": "python3"
  },
  "language_info": {
   "codemirror_mode": {
    "name": "ipython",
    "version": 3
   },
   "file_extension": ".py",
   "mimetype": "text/x-python",
   "name": "python",
   "nbconvert_exporter": "python",
   "pygments_lexer": "ipython3",
   "version": "3.9.13"
  },
  "toc-autonumbering": false
 },
 "nbformat": 4,
 "nbformat_minor": 5
}
